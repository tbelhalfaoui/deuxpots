{
 "cells": [
  {
   "cell_type": "code",
   "execution_count": 2,
   "metadata": {},
   "outputs": [],
   "source": [
    "# Inspired from https://github.com/openfisca/openfisca-france/issues/1385#issuecomment-569054638"
   ]
  },
  {
   "cell_type": "code",
   "execution_count": 3,
   "metadata": {},
   "outputs": [],
   "source": [
    "from pathlib import Path\n",
    "import re\n",
    "import json"
   ]
  },
  {
   "cell_type": "code",
   "execution_count": 4,
   "metadata": {},
   "outputs": [],
   "source": [
    "# 1. Do: git clone https://github.com/openfisca/openfisca-france.git\n",
    "# 2. Put the path to the repo directory here:\n",
    "OPENFISCA_PATH = \"../openfisca-france/\""
   ]
  },
  {
   "cell_type": "code",
   "execution_count": 7,
   "metadata": {},
   "outputs": [],
   "source": [
    "cerfa_fields = {}\n",
    "for path in Path(OPENFISCA_PATH).glob('**/*.py'):\n",
    "    with path.open('r') as f:\n",
    "        content = f.read()\n",
    "        all_classes = re.findall(r\"class (.+?)\\(\", content)\n",
    "        for cls in all_classes:\n",
    "            cls_content = re.findall(r\"class \" + cls + \"\\((.*?)class\", content.replace(\"\\n\", \"\\t\") + \"class\")[0]\n",
    "            # Remove comments\n",
    "            cls_content = re.sub(r\"#([^\\n\\t]+)\", r\" \", cls_content)\n",
    "            cerfa_field = re.findall(r'cerfa_field\\s+=\\s+[\"\\'](\\w+)[\"\\']', cls_content)\n",
    "            assert len(cerfa_field) <= 1\n",
    "            if cerfa_field:\n",
    "                cerfa_fields[cls] = [cerfa_field[0]]\n",
    "            cerfa_field = re.findall(r'cerfa_field\\s*=\\s*{([^}]+)', cls_content)\n",
    "            assert len(cerfa_field) <= 1\n",
    "            if cerfa_field:\n",
    "                boxes = re.findall(r'[\"\\'][0-9A-Z]{3,4}[\"\\']', cerfa_field[0])\n",
    "                assert boxes\n",
    "                cerfa_fields[cls] = [box.strip('\\'\" ') for box in boxes]"
   ]
  },
  {
   "cell_type": "code",
   "execution_count": 145,
   "metadata": {},
   "outputs": [],
   "source": [
    "boxes_common = []\n",
    "mapping_partner = {}\n",
    "mapping_children = {}\n",
    "\n",
    "for box_group, boxes in cerfa_fields.items():\n",
    "    reference_box = boxes[0]\n",
    "    if len(boxes) == 1:\n",
    "        boxes_common.append(reference_box)\n",
    "    elif len(boxes) >= 2:\n",
    "        mapping_partner[boxes[1]] = reference_box\n",
    "        for child_box in sorted(boxes[2:]):\n",
    "            mapping_children[child_box] = reference_box    "
   ]
  },
  {
   "cell_type": "code",
   "execution_count": 150,
   "metadata": {},
   "outputs": [],
   "source": [
    "with open('boxes.json', 'w+') as f:\n",
    "    f.write(json.dumps({\n",
    "        \"common\": boxes_common,\n",
    "        \"partner_mapping\": mapping_partner,\n",
    "        \"children_mapping\": mapping_children,\n",
    "    }))"
   ]
  }
 ],
 "metadata": {
  "kernelspec": {
   "display_name": "venv",
   "language": "python",
   "name": "python3"
  },
  "language_info": {
   "codemirror_mode": {
    "name": "ipython",
    "version": 3
   },
   "file_extension": ".py",
   "mimetype": "text/x-python",
   "name": "python",
   "nbconvert_exporter": "python",
   "pygments_lexer": "ipython3",
   "version": "3.10.9"
  },
  "orig_nbformat": 4
 },
 "nbformat": 4,
 "nbformat_minor": 2
}
