{
 "cells": [
  {
   "cell_type": "code",
   "execution_count": 6,
   "metadata": {},
   "outputs": [],
   "source": [
    "import pkgutil\n",
    "import json\n",
    "\n",
    "from openfisca_france import model\n",
    "from openfisca_france.model.base import Variable"
   ]
  },
  {
   "cell_type": "code",
   "execution_count": 7,
   "metadata": {},
   "outputs": [],
   "source": [
    "# Import all modules from OpenFisca-France model (so that __subclass__ finds them)\n",
    "__all__ = []\n",
    "for loader, module_name, is_pkg in pkgutil.walk_packages(model.__path__):\n",
    "    __all__.append(module_name)\n",
    "    _module = loader.find_module(module_name).load_module(module_name)\n",
    "    globals()[module_name] = _module"
   ]
  },
  {
   "cell_type": "code",
   "execution_count": 8,
   "metadata": {},
   "outputs": [],
   "source": [
    "variables = []\n",
    "for cls in Variable.__subclasses__():\n",
    "    try:\n",
    "        cerfa = cls.cerfa_field\n",
    "    except AttributeError:\n",
    "        continue\n",
    "    if isinstance(cerfa, dict):\n",
    "        boxes = [cerfa[k] for k in sorted(cerfa)]\n",
    "    elif isinstance(cerfa, str):\n",
    "        boxes = [cerfa]\n",
    "    else:\n",
    "        raise ValueError(\"cerfa_field is neither a dict nor a string.\")\n",
    "    if len(boxes) == 1 and len(boxes[0]) == 1:  # Single-letter \"family\" boxes\n",
    "        continue\n",
    "    var_type = cls.value_type.__name__\n",
    "    variable = {\n",
    "        'boxes': boxes,\n",
    "        'type': 'int' if var_type == 'float' else var_type,\n",
    "        'description': getattr(cls, 'label', None),\n",
    "    }\n",
    "    variables.append(variable)"
   ]
  },
  {
   "cell_type": "code",
   "execution_count": 9,
   "metadata": {},
   "outputs": [],
   "source": [
    "variables += [\n",
    "    {\n",
    "        'boxes': [\"8HV\", \"8IV\", \"8JV\", \"8KV\"],\n",
    "        'type': 'int',\n",
    "        'description': \"Prélèvement à la source déjà payé - retenue à la source sur les salaires et pensions\",\n",
    "    },\n",
    "    {\n",
    "        'boxes': [\"8HW\", \"8IW\", \"8JW\", \"8KW\"],\n",
    "        'type': 'int',\n",
    "        'description': \"Prélèvement à la source déjà payé - acomptes d'impôt sur le revenu\",\n",
    "    },\n",
    "    {\n",
    "        'boxes': [\"8HX\", \"8IX\", \"8JX\", \"8KX\"],\n",
    "        'type': 'int',\n",
    "        'description': \"Prélèvement à la source déjà payé - acomptes de prélèvements sociaux\",\n",
    "    },\n",
    "    {\n",
    "        'boxes': [\"8HY\", \"8IY\", \"8JY\", \"8KY\"],\n",
    "        'type': 'int',\n",
    "        'description': \"Prélèvement à la source - Remboursement de trop-prélevé déjà obtenu - impôt sur le revenu\",\n",
    "    },\n",
    "    {\n",
    "        'boxes': [\"8HZ\", \"8IZ\", \"8JZ\", \"8KZ\"],\n",
    "        'type': 'int',\n",
    "        'description': \"Prélèvement à la source déjà payé - Remboursement de trop-prélevé déjà obtenu - prélèvements sociaux\",\n",
    "    },\n",
    "]"
   ]
  },
  {
   "cell_type": "code",
   "execution_count": 10,
   "metadata": {},
   "outputs": [],
   "source": [
    "variables += [\n",
    "    {'boxes': ['AM'], 'type': 'bool', 'description': \"Marié·e\"},\n",
    "    {'boxes': ['AO'], 'type': 'bool', 'description': \"Pacsé·e\"},\n",
    "    {'boxes': ['AD'], 'type': 'bool', 'description': \"Divorcé·e/séparé·e\"},\n",
    "    {'boxes': ['AC'], 'type': 'bool', 'description': \"Célibataire\"},\n",
    "    {'boxes': ['AV'], 'type': 'bool', 'description': \"Veuf·ve\"},\n",
    "    # {'boxes': ['AG'], 'type': 'bool', 'description': \"Titulaire d'une pension de veuve de guerre\"},\n",
    "    # {'boxes': ['AN'], 'type': 'bool', 'description': \"Vous ne viviez pas seul au 1er janvier de l'année de perception des revenus\"},\n",
    "    # {'boxes': ['AL'], 'type': 'bool', 'description': \"Situation pouvant donner droit à une demi-part supplémentaire: vous vivez seul au 1er janvier de l'année de perception des revenus et vous avez élevé un enfant pendant au moins 5 ans durant la période où vous viviez seul (définition depuis 2009) - Un au moins de vos enfants à charge ou rattaché est issu du mariage avec votre conjoint décédé (définition avant 2008)\"},\n",
    "    {'boxes': ['AP', 'AF'], 'type': 'bool', 'description': \"Titulaire d'une pension pour une invalidité d'au moins 40 % ou d'une carte d'invalidité d'au moins 80%\"},\n",
    "    {'boxes': ['AS'], 'type': 'bool', 'description': \"Vous ou votre conjoint (même s'il est décédé), âgés de plus de 75 ans, êtes titulaire de la carte du combattant ou d'une pension militaire d'invalidité ou de victime de guerre\"},\n",
    "    {'boxes': ['CF'], 'type': 'int', 'description': \"Nombre d'enfants à charge non mariés, qui ne sont pas en résidence alternée, de moins de 18 ans au 1er janvier de l'année de perception des revenus, ou nés durant la même année ou handicapés quel que soit leur âge\"},\n",
    "    {'boxes': ['CG'], 'type': 'int', 'description': \"Nombre d'enfants qui ne sont pas en résidence alternée à charge titulaires de la carte d'invalidité.\"},\n",
    "    {'boxes': ['CH'], 'type': 'int', 'description': \"Nombre d'enfants à charge en résidence alternée, non mariés de moins de 18 ans au 1er janvier de l'année de perception des revenus, ou nés durant la même année ou handicapés quel que soit leur âge\"},\n",
    "    {'boxes': ['CI'], 'type': 'int', 'description': \"Nombre d'enfants à charge en résidence alternée titulaires de la carte d'invalidité\"},\n",
    "    {'boxes': ['CR'], 'type': 'int', 'description': \"Nombre de titulaires (autres que les enfants) de la carte invalidité d'au moins 80 %\"},\n",
    "    {'boxes': ['DJ'], 'type': 'int', 'description': \"Nombre d'enfants majeurs célibataires sans enfant\"},\n",
    "    {'boxes': ['DN'], 'type': 'int', 'description': \"Nombre d'enfants mariés/pacsés et d'enfants non mariés chargés de famille\"},\n",
    "]"
   ]
  },
  {
   "cell_type": "code",
   "execution_count": 11,
   "metadata": {},
   "outputs": [],
   "source": [
    "with open('cerfa_variables.json', 'w+') as f:\n",
    "    json.dump(variables, f, indent=2)"
   ]
  }
 ],
 "metadata": {
  "kernelspec": {
   "display_name": ".venv",
   "language": "python",
   "name": "python3"
  },
  "language_info": {
   "codemirror_mode": {
    "name": "ipython",
    "version": 3
   },
   "file_extension": ".py",
   "mimetype": "text/x-python",
   "name": "python",
   "nbconvert_exporter": "python",
   "pygments_lexer": "ipython3",
   "version": "3.11.1"
  },
  "orig_nbformat": 4
 },
 "nbformat": 4,
 "nbformat_minor": 2
}
