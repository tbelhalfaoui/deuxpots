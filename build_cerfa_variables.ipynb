{
 "cells": [
  {
   "cell_type": "code",
   "execution_count": 1,
   "metadata": {},
   "outputs": [],
   "source": [
    "import pkgutil\n",
    "import json\n",
    "\n",
    "from openfisca_france import model\n",
    "from openfisca_france.model.base import Variable"
   ]
  },
  {
   "cell_type": "code",
   "execution_count": 2,
   "metadata": {},
   "outputs": [],
   "source": [
    "# Import all modules from OpenFisca-France model (so that __subclass__ finds them)\n",
    "__all__ = []\n",
    "for loader, module_name, is_pkg in pkgutil.walk_packages(model.__path__):\n",
    "    __all__.append(module_name)\n",
    "    _module = loader.find_module(module_name).load_module(module_name)\n",
    "    globals()[module_name] = _module"
   ]
  },
  {
   "cell_type": "code",
   "execution_count": 3,
   "metadata": {},
   "outputs": [],
   "source": [
    "variables = []\n",
    "for cls in Variable.__subclasses__():\n",
    "    try:\n",
    "        cerfa = cls.cerfa_field\n",
    "    except AttributeError:\n",
    "        continue\n",
    "    if isinstance(cerfa, dict):\n",
    "        boxes = [cerfa[k] for k in sorted(cerfa)]\n",
    "    elif isinstance(cerfa, str):\n",
    "        boxes = [cerfa]\n",
    "    else:\n",
    "        raise ValueError(\"cerfa_field is neither a dict nor a string.\")\n",
    "    variable = {\n",
    "        'boxes': boxes,\n",
    "        'type': cls.value_type.__name__,\n",
    "        'description': getattr(cls, 'label', None),\n",
    "    }\n",
    "    variables.append(variable)"
   ]
  },
  {
   "cell_type": "code",
   "execution_count": 4,
   "metadata": {},
   "outputs": [],
   "source": [
    "variables += [\n",
    "    {\n",
    "        'boxes': [\"8HV\", \"8IV\", \"8JV\", \"8KV\"],\n",
    "        'type': 'float',\n",
    "        'description': \"Prélèvement à la source déjà payé - retenue à la source sur les salaires et pensions\",\n",
    "    },\n",
    "    {\n",
    "        'boxes': [\"8HW\", \"8IW\", \"8JW\", \"8KW\"],\n",
    "        'type': 'float',\n",
    "        'description': \"Prélèvement à la source déjà payé - acomptes d'impôt sur le revenu\",\n",
    "    },\n",
    "    {\n",
    "        'boxes': [\"8HX\", \"8IX\", \"8JX\", \"8KX\"],\n",
    "        'type': 'float',\n",
    "        'description': \"Prélèvement à la source déjà payé - acomptes de prélèvements sociaux\",\n",
    "    },\n",
    "    {\n",
    "        'boxes': [\"8HY\", \"8IY\", \"8JY\", \"8KY\"],\n",
    "        'type': 'float',\n",
    "        'description': \"Prélèvement à la source - Remboursement de trop-prélevé déjà obtenu - impôt sur le revenu\",\n",
    "    },\n",
    "    {\n",
    "        'boxes': [\"8HZ\", \"8IZ\", \"8JZ\", \"8KZ\"],\n",
    "        'type': 'float',\n",
    "        'description': \"Prélèvement à la source déjà payé - Remboursement de trop-prélevé déjà obtenu - prélèvements sociaux\",\n",
    "    },\n",
    "]"
   ]
  },
  {
   "cell_type": "code",
   "execution_count": 7,
   "metadata": {},
   "outputs": [],
   "source": [
    "with open('cerfa_variables.json', 'w+') as f:\n",
    "    json.dump(variables, f, indent=2)"
   ]
  }
 ],
 "metadata": {
  "kernelspec": {
   "display_name": ".venv",
   "language": "python",
   "name": "python3"
  },
  "language_info": {
   "codemirror_mode": {
    "name": "ipython",
    "version": 3
   },
   "file_extension": ".py",
   "mimetype": "text/x-python",
   "name": "python",
   "nbconvert_exporter": "python",
   "pygments_lexer": "ipython3",
   "version": "3.10.9"
  },
  "orig_nbformat": 4
 },
 "nbformat": 4,
 "nbformat_minor": 2
}
