{
 "cells": [
  {
   "attachments": {},
   "cell_type": "markdown",
   "metadata": {},
   "source": [
    "# Sandbox"
   ]
  },
  {
   "cell_type": "code",
   "execution_count": 1,
   "metadata": {},
   "outputs": [],
   "source": [
    "import requests as rq\n",
    "from bs4 import BeautifulSoup\n",
    "from collections import defaultdict\n",
    "import re\n",
    "import fitz"
   ]
  },
  {
   "cell_type": "code",
   "execution_count": 1,
   "metadata": {},
   "outputs": [
    {
     "data": {
      "text/plain": [
       "{'box': {'code': '6FL',\n",
       "  'reference': {'code': '6FL',\n",
       "   'description': 'Deficits globaux.',\n",
       "   'type': 'int'},\n",
       "  'kind': <BoxKind.PARTNER_0: 'partner_0'>},\n",
       " 'raw_value': 800,\n",
       " 'attribution': 0.3}"
      ]
     },
     "execution_count": 1,
     "metadata": {},
     "output_type": "execute_result"
    }
   ],
   "source": [
    "from dataclasses import asdict\n",
    "from deuxpots.box import Box, BoxKind, ReferenceBox\n",
    "from deuxpots.valued_box import ValuedBox\n",
    "import json\n",
    "\n",
    "valbox = ValuedBox(\n",
    "    box=Box(\n",
    "        code=\"6FL\",\n",
    "        reference=ReferenceBox(code=\"6FL\", description=\"Deficits globaux.\", type='int'),\n",
    "        kind=BoxKind.PARTNER_0\n",
    "    ),\n",
    "    attribution=.3,\n",
    "    raw_value=800,\n",
    ")\n",
    "\n",
    "asdict(valbox)"
   ]
  },
  {
   "cell_type": "code",
   "execution_count": 4,
   "metadata": {},
   "outputs": [],
   "source": [
    "PDF_PATH = \"test/resources/declaattributionn.pdf\""
   ]
  },
  {
   "cell_type": "code",
   "execution_count": 28,
   "metadata": {},
   "outputs": [
    {
     "data": {
      "text/plain": [
       "{'8HV': 2000,\n",
       " '8IV': 800,\n",
       " '1AJ': 60000,\n",
       " '1BJ': 20000,\n",
       " '5HQ': 500,\n",
       " 'AM': 1,\n",
       " 'AP': 1,\n",
       " 'AS': 1,\n",
       " 'DJ': '1',\n",
       " 'DN': '1',\n",
       " 'CF': '2',\n",
       " 'CG': '1',\n",
       " 'CH': '1',\n",
       " 'CI': '1',\n",
       " 'CR': '2'}"
      ]
     },
     "execution_count": 28,
     "metadata": {},
     "output_type": "execute_result"
    }
   ],
   "source": [
    "from deuxpots.pdf_tax_parser import _load_family_box_coords, parse_tax_pdf\n",
    "\n",
    "family_box_coords = _load_family_box_coords(\"family_box_coords.json\")\n",
    "parse_tax_pdf(open(PDF_PATH, 'rb').read(), family_box_coords)"
   ]
  },
  {
   "cell_type": "code",
   "execution_count": 10,
   "metadata": {},
   "outputs": [],
   "source": [
    "# with fitz.open(PDF_PATH) as doc:\n",
    "#     for page in doc:\n",
    "#         text = page.get_text()\n",
    "#         print(text)"
   ]
  },
  {
   "cell_type": "code",
   "execution_count": 3,
   "metadata": {},
   "outputs": [],
   "source": [
    "doc = fitz.open(PDF_PATH)"
   ]
  },
  {
   "cell_type": "code",
   "execution_count": 14,
   "metadata": {},
   "outputs": [
    {
     "data": {
      "text/plain": [
       "page 2 of declaattributionn.pdf"
      ]
     },
     "execution_count": 14,
     "metadata": {},
     "output_type": "execute_result"
    }
   ],
   "source": [
    "next(pages)"
   ]
  },
  {
   "cell_type": "code",
   "execution_count": null,
   "metadata": {},
   "outputs": [],
   "source": [
    "def parse_tax_pdf(path):\n",
    "    box_values = {}\n",
    "    REGEX_BOX = re.compile(r'\\s*([0-9][A-Z]{2})\\s+([^:]+):\\s([0-9]+)')\n",
    "    with fitz.open(path) as doc:\n",
    "        for page in doc:\n",
    "            text = page.get_text()\n",
    "            for line in text.split('\\n'):\n",
    "                match = REGEX_BOX.search(line)\n",
    "                if match:\n",
    "                    box_code, _, box_value = match.groups()\n",
    "                    box_values[box_code] = int(box_value)\n",
    "    return box_values"
   ]
  },
  {
   "cell_type": "code",
   "execution_count": null,
   "metadata": {},
   "outputs": [],
   "source": [
    "parse_tax_pdf(PDF_PATH)"
   ]
  },
  {
   "cell_type": "code",
   "execution_count": null,
   "metadata": {},
   "outputs": [],
   "source": [
    "def compute_tax(data):\n",
    "    resp = rq.post('https://simulateur-ir-ifi.impots.gouv.fr/cgi-bin/calc-2023.cgi', data=data)\n",
    "    resp.raise_for_status()\n",
    "    with open('simulator.html', 'w+') as f:\n",
    "        f.write(resp.text)\n",
    "    soup = BeautifulSoup(resp.text)\n",
    "    results = {input['name']: float(input['value'].replace(' ', '').strip())\n",
    "               for input in soup.select('input[type=hidden]')}\n",
    "    try:\n",
    "        return {\n",
    "            \"Impôt total\": results[\"IINETIR\"],\n",
    "            \"Déjà payé\": results[\"IINETIR\"] - (results['IINET'] - results['IREST']),\n",
    "            \"Reste à payer\": results['IINET'] - results['IREST'],\n",
    "        }\n",
    "    except KeyError:\n",
    "        return {\n",
    "            \"error\": soup.select_one('p.margin-left-30px').text\n",
    "        }"
   ]
  },
  {
   "cell_type": "code",
   "execution_count": 32,
   "metadata": {},
   "outputs": [],
   "source": [
    "res = parse_tax_pdf(open(PDF_PATH, 'rb').read(), family_box_coords)\n",
    "res['0DA'] = '1950'"
   ]
  },
  {
   "cell_type": "code",
   "execution_count": 34,
   "metadata": {},
   "outputs": [
    {
     "data": {
      "text/plain": [
       "{'8HV': 2000,\n",
       " '8IV': 800,\n",
       " '1AJ': 60000,\n",
       " '1BJ': 20000,\n",
       " '5HQ': 500,\n",
       " 'AM': 1,\n",
       " 'AP': 1,\n",
       " 'AS': 1,\n",
       " 'DJ': '1',\n",
       " 'DN': '1',\n",
       " 'CF': '2',\n",
       " 'CG': '1',\n",
       " 'CH': '1',\n",
       " 'CI': '1',\n",
       " 'CR': '2',\n",
       " '0DA': '1950'}"
      ]
     },
     "execution_count": 34,
     "metadata": {},
     "output_type": "execute_result"
    }
   ],
   "source": [
    "res"
   ]
  },
  {
   "cell_type": "code",
   "execution_count": 33,
   "metadata": {},
   "outputs": [
    {
     "data": {
      "text/plain": [
       "SimulatorResult(total_tax=15252, already_paid=2800, remains_to_pay=12452)"
      ]
     },
     "execution_count": 33,
     "metadata": {},
     "output_type": "execute_result"
    }
   ],
   "source": [
    "from deuxpots.tax_calculator import compute_tax\n",
    "\n",
    "# compute_tax({\n",
    "#         '0DA': '1950',\n",
    "#         'pre_situation_famille': 'M',\n",
    "#         'pre_situation_residence': 'M',\n",
    "#         '1AJ': 60000,\n",
    "#         # '1BJ': 10000,\n",
    "#         '0AW': 1,\n",
    "#     })\n",
    "\n",
    "compute_tax(res)"
   ]
  },
  {
   "cell_type": "code",
   "execution_count": null,
   "metadata": {},
   "outputs": [],
   "source": [
    "LETTER_2_1_MAPPING = letter_mapping = {\n",
    "    'B': 'A',\n",
    "    'I': 'H'\n",
    "}\n",
    "\n",
    "def convert_2_to_1(box):\n",
    "    if box == '0DB':\n",
    "        return '0DA'\n",
    "    chars = list(box)\n",
    "    chars[1] = LETTER_2_1_MAPPING.get(chars[1], chars[1])\n",
    "    return ''.join(chars)"
   ]
  },
  {
   "cell_type": "code",
   "execution_count": null,
   "metadata": {},
   "outputs": [],
   "source": [
    "data_common = {\n",
    "    '0DA': '1992',  # (M) Date de naissance\n",
    "    '0DB': '1990',  # (T) Date de naissance\n",
    "    '1AJ': 357,     # (M) Traitements et salaires\n",
    "    '1BJ': 59603,   # (T) Traitements et salaires\n",
    "    '1AP': 5299,    # (M) Autres revenus imposables Chômage, préretraite\n",
    "    '2DC': 1,       # (M) REVENUS DES VALEURS ET CAPITAUX MOBILIERS\n",
    "    '2TR': 20,      # (M) REVENUS DES VALEURS ET CAPITAUX MOBILIERS\n",
    "    '2BH': 21,      # (M) REVENUS DES VALEURS ET CAPITAUX MOBILIERS\n",
    "    '2CK': 3,       # (M) REVENUS DES VALEURS ET CAPITAUX MOBILIERS\n",
    "    '5CD': 9,       # (M) Locations meublées cas général - Durée de l'exercice nombre de mois si inférieur à 12.\n",
    "    '5ND': 4520,    # (M) Locations meublées cas général\n",
    "    '5HQ': 53083,   # (M) Micro-BNC - Revenus imposables\n",
    "    '5IQ': 1260,    # (T) Micro-BNC - Revenus imposables\n",
    "    '8UY': 941,     # (M) Micro-entrepreneur (auto-entrepreneur) : versements d'impôt sur le revenu dont le remboursement est demandé\n",
    "    '8HV': 387,     # (M) Retenue à la source sur les salaires et pensions \n",
    "    '8IV': 9950,    # (T) Retenue à la source sur les salaires et pensions \n",
    "    '8HW': 441,     # (M) Acomptes d'impôt sur le revenu \n",
    "}\n",
    "\n",
    "data_single_seed = {\n",
    "    'pre_situation_famille': 'C',\n",
    "    'pre_situation_residence': 'M',\n",
    "}\n",
    "\n",
    "data_common_seed = {\n",
    "    'pre_situation_famille': 'O',\n",
    "    'pre_situation_residence': 'M',\n",
    "}\n",
    "\n",
    "data_attribution = {\n",
    "    '0DA': 'M',\n",
    "    '0DB': 'T',\n",
    "    '1AJ': \"M\",\n",
    "    '1BJ': \"T\",\n",
    "    '1AP': \"M\",\n",
    "    '2DC': \"M\",\n",
    "    '2TR': \"M\",\n",
    "    '2BH': \"M\",\n",
    "    '2CK': \"M\",\n",
    "    '5CD': \"M\",\n",
    "    '5ND': \"M\",\n",
    "    '5HQ': \"M\",\n",
    "    '5IQ': \"T\",\n",
    "    '8UY': \"M\",\n",
    "    '8HV': \"M\",\n",
    "    '8IV': \"T\",\n",
    "    '8HW': \"M\",\n",
    "}\n",
    "\n",
    "assert data_attribution.keys() == data_common.keys()\n",
    "assert len(set(data_attribution.values())) == 2"
   ]
  },
  {
   "cell_type": "code",
   "execution_count": null,
   "metadata": {},
   "outputs": [],
   "source": [
    "boxes_per_person = defaultdict(list)\n",
    "for box, who in data_attribution.items():\n",
    "    boxes_per_person[who].append(box)\n",
    "\n",
    "results = []\n",
    "for person, boxes in boxes_per_person.items():\n",
    "    data = {convert_2_to_1(box): data_common[box] for box in boxes}\n",
    "    data = {**data, **data_single_seed}\n",
    "    result = compute_tax(data)\n",
    "    results.append({\"who\": person, **result})\n",
    "    print(data)\n",
    "result = compute_tax({**data_common, **data_common_seed})\n",
    "results.append({\"who\": '+'.join(boxes_per_person), **result})"
   ]
  },
  {
   "cell_type": "code",
   "execution_count": null,
   "metadata": {},
   "outputs": [],
   "source": [
    "attributionA = results[0]['Impôt total'] / (results[0]['Impôt total'] + results[1]['Impôt total'])\n",
    "attributionB = results[1]['Impôt total'] / (results[0]['Impôt total'] + results[1]['Impôt total'])"
   ]
  },
  {
   "cell_type": "code",
   "execution_count": null,
   "metadata": {},
   "outputs": [],
   "source": [
    "results[0]['A payer (commun)'] = attributionA * results[-1]['Impôt total'] - results[0]['Déjà payé']\n",
    "results[1]['A payer (commun)'] = attributionB * results[-1]['Impôt total'] - results[1]['Déjà payé']"
   ]
  },
  {
   "cell_type": "code",
   "execution_count": null,
   "metadata": {},
   "outputs": [],
   "source": [
    "for res in results:\n",
    "    print(res)"
   ]
  },
  {
   "cell_type": "code",
   "execution_count": null,
   "metadata": {},
   "outputs": [],
   "source": [
    "for res in results:\n",
    "    print(res)"
   ]
  },
  {
   "cell_type": "code",
   "execution_count": null,
   "metadata": {},
   "outputs": [],
   "source": [
    "print(\"Économie\", results[-1]['Impôt total'] - results[0]['Impôt total'] - results[1]['Impôt total'])"
   ]
  },
  {
   "attachments": {},
   "cell_type": "markdown",
   "metadata": {},
   "source": [
    "# API usage example"
   ]
  },
  {
   "cell_type": "code",
   "execution_count": 4,
   "metadata": {},
   "outputs": [],
   "source": [
    "import requests\n",
    "import json\n",
    "from pathlib import Path"
   ]
  },
  {
   "cell_type": "code",
   "execution_count": 8,
   "metadata": {},
   "outputs": [],
   "source": [
    "files={\n",
    "    \"tax_pdf\": Path(\"test/resources/declaattributionn.pdf\").open('rb'),\n",
    "}\n",
    "data = {\n",
    "    'boxes': \"{}\"\n",
    "}\n",
    "\n",
    "res = requests.post('http://localhost:8888/individualize', data=data, files=files)\n",
    "res.raise_for_status()\n",
    "res_dict = res.json()"
   ]
  },
  {
   "cell_type": "code",
   "execution_count": 9,
   "metadata": {},
   "outputs": [
    {
     "name": "stdout",
     "output_type": "stream",
     "text": [
      "AS Vous ou votre conjoint (même s'il est décédé), âgés de plus de 75 ans, êtes titulaire de la carte du combattant ou d'une pension militaire d'invalidité ou de victime de guerre\n",
      "DJ Nombre d'enfants majeurs célibataires sans enfant\n",
      "DN Nombre d'enfants mariés/pacsés et d'enfants non mariés chargés de famille\n",
      "CF Nombre d'enfants à charge non mariés, qui ne sont pas en résidence alternée, de moins de 18 ans au 1er janvier de l'année de perception des revenus, ou nés durant la même année ou handicapés quel que soit leur âge\n",
      "CG Nombre d'enfants qui ne sont pas en résidence alternée à charge titulaires de la carte d'invalidité.\n",
      "CH Nombre d'enfants à charge en résidence alternée, non mariés de moins de 18 ans au 1er janvier de l'année de perception des revenus, ou nés durant la même année ou handicapés quel que soit leur âge\n",
      "CI Nombre d'enfants à charge en résidence alternée titulaires de la carte d'invalidité\n",
      "CR Nombre de titulaires (autres que les enfants) de la carte invalidité d'au moins 80 %\n"
     ]
    }
   ],
   "source": [
    "for box in res_dict['boxes']:\n",
    "    if box['attribution'] is None:\n",
    "        print(box['code'], box['description'])"
   ]
  },
  {
   "cell_type": "code",
   "execution_count": null,
   "metadata": {},
   "outputs": [],
   "source": [
    "params = res_dict.copy()\n",
    "for box in params['boxes']:\n",
    "    if box['attribution'] is None:\n",
    "        box['attribution'] = 0"
   ]
  },
  {
   "cell_type": "code",
   "execution_count": null,
   "metadata": {},
   "outputs": [],
   "source": [
    "files={\n",
    "    \"tax_pdf\": Path(\"declaattributionn.pdf\").open('rb'),\n",
    "}\n",
    "data = {\n",
    "    'boxes': json.dumps(params['boxes'])\n",
    "}\n",
    "\n",
    "res = requests.post('http://localhost:8888/individualize', data=data, files=files)\n",
    "res.raise_for_status()\n",
    "res_dict = res.json()"
   ]
  },
  {
   "cell_type": "code",
   "execution_count": null,
   "metadata": {},
   "outputs": [
    {
     "data": {
      "text/plain": [
       "{'partners': [{'already_paid': 2000,\n",
       "   'proportion': 0.9888587774766636,\n",
       "   'remains_to_pay': 6747.444745558567,\n",
       "   'tax_if_single': 9852,\n",
       "   'total_tax': 8747.444745558567},\n",
       "  {'already_paid': 800,\n",
       "   'proportion': 0.011141222523336344,\n",
       "   'remains_to_pay': -701.4447455585666,\n",
       "   'tax_if_single': 111,\n",
       "   'total_tax': 98.5552544414333}],\n",
       " 'tax_gain': 1117,\n",
       " 'total_tax_single': 9963,\n",
       " 'total_tax_together': 8846}"
      ]
     },
     "metadata": {},
     "output_type": "display_data"
    }
   ],
   "source": [
    "res_dict['individualized']"
   ]
  }
 ],
 "metadata": {
  "kernelspec": {
   "display_name": "venv",
   "language": "python",
   "name": "python3"
  },
  "language_info": {
   "codemirror_mode": {
    "name": "ipython",
    "version": 3
   },
   "file_extension": ".py",
   "mimetype": "text/x-python",
   "name": "python",
   "nbconvert_exporter": "python",
   "pygments_lexer": "ipython3",
   "version": "3.11.1"
  },
  "orig_nbformat": 4
 },
 "nbformat": 4,
 "nbformat_minor": 2
}
