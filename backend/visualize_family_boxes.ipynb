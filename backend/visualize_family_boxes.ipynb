{
 "cells": [
  {
   "attachments": {},
   "cell_type": "markdown",
   "metadata": {},
   "source": [
    "## Visual check of the family boxes detection\n",
    "\n",
    "Extract box coordinates and generate a JSON file in LabelMe format, that can be used to visualize the bounding rectangles."
   ]
  },
  {
   "cell_type": "code",
   "execution_count": null,
   "metadata": {},
   "outputs": [],
   "source": [
    "import json\n",
    "import base64\n",
    "import fitz\n",
    "from deuxpots import CERFA_VARIABLES_PATH, CATEGORY_COORDS_PATH\n",
    "from deuxpots.box import load_box_mapping\n",
    "from deuxpots.pdf_tax_parser import _generate_family_box_coords, load_category_coords, _strip_duplicate_family_box_coords"
   ]
  },
  {
   "cell_type": "code",
   "execution_count": null,
   "metadata": {},
   "outputs": [],
   "source": [
    "BOX_MAPPING = load_box_mapping(CERFA_VARIABLES_PATH)\n",
    "CATEGORY_COORDS = load_category_coords(CATEGORY_COORDS_PATH)\n",
    "\n",
    "# PDF_PATH = \"test/resources/declaration_2023.pdf\"\n",
    "PDF_PATH = \"test/resources/declaration_2022.pdf\""
   ]
  },
  {
   "cell_type": "code",
   "execution_count": null,
   "metadata": {},
   "outputs": [],
   "source": [
    "doc = fitz.open(PDF_PATH)\n",
    "family_page = doc[1]\n",
    "pixmap = family_page.get_pixmap(clip=family_page.rect)\n",
    "page_width, page_height = family_page.mediabox_size\n"
   ]
  },
  {
   "cell_type": "code",
   "execution_count": null,
   "metadata": {},
   "outputs": [],
   "source": [
    "family_box_coords = _generate_family_box_coords(family_page, CATEGORY_COORDS, BOX_MAPPING)\n",
    "family_box_coords = _strip_duplicate_family_box_coords(family_box_coords)"
   ]
  },
  {
   "cell_type": "code",
   "execution_count": null,
   "metadata": {},
   "outputs": [],
   "source": [
    "labelme_dict = {\n",
    "  \"version\": \"5.2.0\",\n",
    "  \"flags\": {},\n",
    "  \"shapes\" : [],\n",
    "  \"imageWidth\": int(page_width),\n",
    "  \"imageHeight\": int(page_height),\n",
    "  \"imageData\": base64.b64encode(pixmap.tobytes()).decode(),\n",
    "  \"imagePath\": \"placeholder.png\",\n",
    "}\n",
    "\n",
    "for box_code, box_coords in family_box_coords.items():\n",
    "     shape = {\n",
    "        \"label\": box_code,\n",
    "        \"points\": [\n",
    "          box_coords[0:2],\n",
    "          box_coords[2:4],\n",
    "        ],\n",
    "        \"group_id\": None,\n",
    "        \"description\": \"\",\n",
    "        \"shape_type\": \"rectangle\",\n",
    "        \"flags\": {}\n",
    "      }\n",
    "     labelme_dict['shapes'].append(shape)\n",
    "\n",
    "with open('family_box_coords.json', 'w+') as f:\n",
    "    json.dump(labelme_dict, f, indent=4)"
   ]
  },
  {
   "attachments": {},
   "cell_type": "markdown",
   "metadata": {},
   "source": [
    "The generated file can be opened for visual check (it should not be committed):\n",
    "```bash\n",
    "labelme family_box_coords.json\n",
    "```\n",
    "\n",
    "The bounding boxes must span (i.e. at least lightly overlap) the box value."
   ]
  }
 ],
 "metadata": {
  "kernelspec": {
   "display_name": "venv",
   "language": "python",
   "name": "python3"
  },
  "language_info": {
   "codemirror_mode": {
    "name": "ipython",
    "version": 3
   },
   "file_extension": ".py",
   "mimetype": "text/x-python",
   "name": "python",
   "nbconvert_exporter": "python",
   "pygments_lexer": "ipython3",
   "version": "3.11.1"
  }
 },
 "nbformat": 4,
 "nbformat_minor": 2
}
