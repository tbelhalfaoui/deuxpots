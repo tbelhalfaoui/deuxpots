{
 "cells": [
  {
   "cell_type": "code",
   "execution_count": 251,
   "metadata": {},
   "outputs": [],
   "source": [
    "from math import inf\n",
    "from deuxpots.box import load_box_mapping\n",
    "from deuxpots import CERFA_VARIABLES_PATH\n",
    "from deuxpots.tax_calculator import IncomeSheet, compute_tax"
   ]
  },
  {
   "cell_type": "code",
   "execution_count": 238,
   "metadata": {},
   "outputs": [
    {
     "data": {
      "text/plain": [
       "['0CF', '0CG', '0CH', '0CI', '0CR', '0DJ', '0DN']"
      ]
     },
     "execution_count": 238,
     "metadata": {},
     "output_type": "execute_result"
    }
   ],
   "source": [
    "BOX_MAPPING = load_box_mapping(CERFA_VARIABLES_PATH)\n",
    "FLOAT_BOX_CODES = [box.code for box in BOX_MAPPING.values() if box.reference.type == \"float\"]\n",
    "FLOAT_BOX_CODES"
   ]
  },
  {
   "cell_type": "code",
   "execution_count": 252,
   "metadata": {},
   "outputs": [],
   "source": [
    "RATE_PIECES = [\n",
    "    (0, 10777, 0),\n",
    "    (10778, 27478, 0.11),\n",
    "    (27479, 78570, 0.3),\n",
    "    (78571, 168994, 0.41),\n",
    "    (168994, inf, 0.45),\n",
    "]\n",
    "\n",
    "def apply_piecewise_rate(income):\n",
    "    return sum(\n",
    "        (min(upper, income) - min(lower, income)) * rate\n",
    "        for lower, upper, rate in RATE_PIECES)\n",
    "\n",
    "def apply_inverse_piecewise_rate(tax):\n",
    "    income = 0\n",
    "    explained_tax = 0\n",
    "    for lower, upper, rate in RATE_PIECES:\n",
    "        new_explained_tax = (upper - lower) * rate\n",
    "        if new_explained_tax < tax:\n",
    "            income += upper - lower\n",
    "            explained_tax += new_explained_tax\n",
    "        else:\n",
    "            income += (tax - explained_tax) / rate\n",
    "            break\n",
    "    return income"
   ]
  },
  {
   "cell_type": "code",
   "execution_count": 253,
   "metadata": {},
   "outputs": [
    {
     "data": {
      "text/plain": [
       "4393.299999999999"
      ]
     },
     "execution_count": 253,
     "metadata": {},
     "output_type": "execute_result"
    }
   ],
   "source": [
    "apply_piecewise_rate(36000)"
   ]
  },
  {
   "cell_type": "code",
   "execution_count": 241,
   "metadata": {},
   "outputs": [
    {
     "data": {
      "text/plain": [
       "99997.0"
      ]
     },
     "execution_count": 241,
     "metadata": {},
     "output_type": "execute_result"
    }
   ],
   "source": [
    "apply_inverse_piecewise_rate(25950.19)"
   ]
  },
  {
   "cell_type": "code",
   "execution_count": 242,
   "metadata": {},
   "outputs": [
    {
     "ename": "ZeroDivisionError",
     "evalue": "division by zero",
     "output_type": "error",
     "traceback": [
      "\u001b[0;31m---------------------------------------------------------------------------\u001b[0m",
      "\u001b[0;31mZeroDivisionError\u001b[0m                         Traceback (most recent call last)",
      "Cell \u001b[0;32mIn[242], line 1\u001b[0m\n\u001b[0;32m----> 1\u001b[0m apply_inverse_piecewise_rate(\u001b[39m0\u001b[39;49m)\n",
      "Cell \u001b[0;32mIn[239], line 23\u001b[0m, in \u001b[0;36mapply_inverse_piecewise_rate\u001b[0;34m(tax)\u001b[0m\n\u001b[1;32m     21\u001b[0m         explained_tax \u001b[39m+\u001b[39m\u001b[39m=\u001b[39m new_explained_tax\n\u001b[1;32m     22\u001b[0m     \u001b[39melse\u001b[39;00m:\n\u001b[0;32m---> 23\u001b[0m         income \u001b[39m+\u001b[39m\u001b[39m=\u001b[39m (tax \u001b[39m-\u001b[39;49m explained_tax) \u001b[39m/\u001b[39;49m rate\n\u001b[1;32m     24\u001b[0m         \u001b[39mbreak\u001b[39;00m\n\u001b[1;32m     25\u001b[0m \u001b[39mreturn\u001b[39;00m income\n",
      "\u001b[0;31mZeroDivisionError\u001b[0m: division by zero"
     ]
    }
   ],
   "source": [
    "apply_inverse_piecewise_rate(0)"
   ]
  },
  {
   "cell_type": "code",
   "execution_count": 288,
   "metadata": {},
   "outputs": [],
   "source": [
    "sheets = [\n",
    "    IncomeSheet({\n",
    "        'pre_situation_famille': 'C',\n",
    "        'pre_situation_residence': 'M',\n",
    "        '0DA': 1950,\n",
    "        '0CF': 1,\n",
    "        '0CG': 1,\n",
    "        '1AJ': 60000,\n",
    "    }),\n",
    "    IncomeSheet({\n",
    "        'pre_situation_famille': 'C',\n",
    "        'pre_situation_residence': 'M',\n",
    "        '0DA': 1950,\n",
    "        '0CH': 1,\n",
    "        '0CI': 1,\n",
    "        '1AJ': 60000,\n",
    "    }),\n",
    "]"
   ]
  },
  {
   "cell_type": "code",
   "execution_count": 289,
   "metadata": {},
   "outputs": [
    {
     "name": "stdout",
     "output_type": "stream",
     "text": [
      "4765\n",
      "7279\n"
     ]
    }
   ],
   "source": [
    "results = []\n",
    "for sheet in sheets:\n",
    "    result = compute_tax(sheet)\n",
    "    print(\n",
    "        result.total_tax,\n",
    "    )\n",
    "    results.append(result)"
   ]
  },
  {
   "cell_type": "code",
   "execution_count": 290,
   "metadata": {},
   "outputs": [
    {
     "data": {
      "text/plain": [
       "[SimulatorResult(total_tax=4765, already_paid=0, remains_to_pay=4765, household_size=2.0, taxable_income=54000),\n",
       " SimulatorResult(total_tax=7279, already_paid=0, remains_to_pay=7279, household_size=1.5, taxable_income=54000)]"
      ]
     },
     "execution_count": 290,
     "metadata": {},
     "output_type": "execute_result"
    }
   ],
   "source": [
    "results"
   ]
  },
  {
   "cell_type": "code",
   "execution_count": 274,
   "metadata": {},
   "outputs": [
    {
     "data": {
      "text/plain": [
       "8096"
      ]
     },
     "execution_count": 274,
     "metadata": {},
     "output_type": "execute_result"
    }
   ],
   "source": [
    "int(round(1.265 * apply_piecewise_rate(result.taxable_income / 1.265)))"
   ]
  },
  {
   "cell_type": "code",
   "execution_count": 267,
   "metadata": {},
   "outputs": [
    {
     "data": {
      "text/plain": [
       "8026.3"
      ]
     },
     "execution_count": 267,
     "metadata": {},
     "output_type": "execute_result"
    }
   ],
   "source": [
    "apply_piecewise_rate(48110)"
   ]
  },
  {
   "cell_type": "code",
   "execution_count": 69,
   "metadata": {},
   "outputs": [
    {
     "data": {
      "text/plain": [
       "8026"
      ]
     },
     "execution_count": 69,
     "metadata": {},
     "output_type": "execute_result"
    }
   ],
   "source": [
    "8026"
   ]
  },
  {
   "cell_type": "code",
   "execution_count": 70,
   "metadata": {},
   "outputs": [
    {
     "data": {
      "text/plain": [
       "-0.10409683426443203"
      ]
     },
     "execution_count": 70,
     "metadata": {},
     "output_type": "execute_result"
    }
   ],
   "source": [
    "(48110-53700) / 53700"
   ]
  },
  {
   "cell_type": "code",
   "execution_count": null,
   "metadata": {},
   "outputs": [],
   "source": []
  }
 ],
 "metadata": {
  "kernelspec": {
   "display_name": "venv",
   "language": "python",
   "name": "python3"
  },
  "language_info": {
   "codemirror_mode": {
    "name": "ipython",
    "version": 3
   },
   "file_extension": ".py",
   "mimetype": "text/x-python",
   "name": "python",
   "nbconvert_exporter": "python",
   "pygments_lexer": "ipython3",
   "version": "3.11.1"
  },
  "orig_nbformat": 4
 },
 "nbformat": 4,
 "nbformat_minor": 2
}
