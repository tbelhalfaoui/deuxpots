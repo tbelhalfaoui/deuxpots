{
 "cells": [
  {
   "attachments": {},
   "cell_type": "markdown",
   "metadata": {},
   "source": [
    "## Extract CERFA variables from Openfisca-France repo (and apply some manual tweaks)"
   ]
  },
  {
   "cell_type": "code",
   "execution_count": null,
   "metadata": {},
   "outputs": [],
   "source": [
    "import pkgutil\n",
    "import json\n",
    "import re\n",
    "import requests\n",
    "from bs4 import BeautifulSoup\n",
    "\n",
    "from openfisca_france import model\n",
    "from openfisca_france.model.base import Variable\n",
    "\n",
    "from deuxpots import CERFA_VARIABLES_PATH"
   ]
  },
  {
   "attachments": {},
   "cell_type": "markdown",
   "metadata": {},
   "source": [
    "Import all modules from OpenFisca-France model (so that __subclass__ finds them)."
   ]
  },
  {
   "cell_type": "code",
   "execution_count": null,
   "metadata": {},
   "outputs": [],
   "source": [
    "for loader, module_name, is_pkg in pkgutil.walk_packages(model.__path__):\n",
    "    if module_name not in globals():\n",
    "        _module = loader.find_module(module_name).load_module(module_name)\n",
    "        globals()[module_name] = _module"
   ]
  },
  {
   "cell_type": "code",
   "execution_count": null,
   "metadata": {},
   "outputs": [],
   "source": [
    "variables = []\n",
    "for cls in Variable.__subclasses__():\n",
    "    try:\n",
    "        cerfa = cls.cerfa_field\n",
    "    except AttributeError:\n",
    "        continue\n",
    "    if isinstance(cerfa, dict):\n",
    "        boxes = [cerfa[k] for k in sorted(cerfa)]\n",
    "    elif isinstance(cerfa, str):\n",
    "        boxes = [cerfa]\n",
    "    else:\n",
    "        raise ValueError(\"cerfa_field is neither a dict nor a string.\")\n",
    "    if len(boxes) == 1 and len(boxes[0]) == 1:  # Exclude single-letter \"family\" boxes (to be added manually later on)\n",
    "        continue\n",
    "    var_type = cls.value_type.__name__\n",
    "    variable = {\n",
    "        'boxes': tuple(sorted(boxes)),\n",
    "        'type': 'int' if var_type == 'float' else var_type,\n",
    "        'description': getattr(cls, 'label', None),\n",
    "    }\n",
    "    variables.append(variable)"
   ]
  },
  {
   "attachments": {},
   "cell_type": "markdown",
   "metadata": {},
   "source": [
    "Scrape variables from the HTML page of the tax simulator."
   ]
  },
  {
   "cell_type": "code",
   "execution_count": null,
   "metadata": {},
   "outputs": [],
   "source": [
    "response = requests.get('https://simulateur-ir-ifi.impots.gouv.fr/calcul_impot/2023/complet/index.htm')\n",
    "soup = BeautifulSoup(response.text)"
   ]
  },
  {
   "cell_type": "code",
   "execution_count": null,
   "metadata": {},
   "outputs": [],
   "source": [
    "REGEX_BOXCODE = re.compile(r'[0-9][A-Z]{2}')\n",
    "boxcodes_scraped = [input['title'] for input in soup.select('input[type=text]') if REGEX_BOXCODE.match(input['title'])]\n",
    "len(boxcodes_scraped)"
   ]
  },
  {
   "cell_type": "code",
   "execution_count": null,
   "metadata": {},
   "outputs": [],
   "source": [
    "boxcodes_openfisca = [box for var in variables for box in var['boxes']]\n",
    "len(boxcodes_openfisca)"
   ]
  },
  {
   "attachments": {},
   "cell_type": "markdown",
   "metadata": {},
   "source": [
    "Add some new boxes from 2023, that are not present in Openfisca yet."
   ]
  },
  {
   "cell_type": "code",
   "execution_count": null,
   "metadata": {},
   "outputs": [],
   "source": [
    "variables += [\n",
    "    {\n",
    "        'boxes': (\"8HV\", \"8IV\", \"8JV\", \"8KV\"),\n",
    "        'type': 'int',\n",
    "        'description': \"Prélèvement à la source déjà payé - retenue à la source sur les salaires et pensions\",\n",
    "    },\n",
    "    {\n",
    "        'boxes': (\"8HW\", \"8IW\", \"8JW\", \"8KW\"),\n",
    "        'type': 'int',\n",
    "        'description': \"Prélèvement à la source déjà payé - acomptes d'impôt sur le revenu\",\n",
    "    },\n",
    "    {\n",
    "        'boxes': (\"8HX\", \"8IX\", \"8JX\", \"8KX\"),\n",
    "        'type': 'int',\n",
    "        'description': \"Prélèvement à la source déjà payé - acomptes de prélèvements sociaux\",\n",
    "    },\n",
    "    {\n",
    "        'boxes': (\"8HY\", \"8IY\", \"8JY\", \"8KY\"),\n",
    "        'type': 'int',\n",
    "        'description': \"Prélèvement à la source - Remboursement de trop-prélevé déjà obtenu - impôt sur le revenu\",\n",
    "    },\n",
    "    {\n",
    "        'boxes': (\"8HZ\", \"8IZ\", \"8JZ\", \"8KZ\"),\n",
    "        'type': 'int',\n",
    "        'description': \"Prélèvement à la source déjà payé - Remboursement de trop-prélevé déjà obtenu - prélèvements sociaux\",\n",
    "    },\n",
    "]"
   ]
  },
  {
   "attachments": {},
   "cell_type": "markdown",
   "metadata": {},
   "source": [
    "The family boxes (booleans or small integer) are added manually, because:\n",
    "- Their codes are ambigouous (e.g. in openfisca, there are two \"F\" boxes).\n",
    "- The codes used in the online simulator are prefixed by the section letter: A, B, C or D (e.g. \"AF\" instead of \"F\").\n",
    "- Somme boxes are not grouped together whereas they should (e.g. \"AP\" and \"AF\" are the same, but for the two partners)."
   ]
  },
  {
   "cell_type": "code",
   "execution_count": null,
   "metadata": {},
   "outputs": [],
   "source": [
    "variables += [\n",
    "    # The order is important here: the first one is the box for the first partner (wille be always used for single simulation)\n",
    "    {'boxes': ('0AP', '0AF'), 'type': 'bool', 'description': \"Titulaire d'une pension pour une invalidité d'au moins 40 % ou d'une carte d'invalidité d'au moins 80%\"},\n",
    "    {'boxes': ('0AW', '0AS'), 'type': 'bool', 'description': \"Vous êtes âgé de plus de 74 ans, vous êtes titulaire de la carte du combattant ou d'une pension militaire d'invalidité ou de victime de guerre\"},\n",
    "    {'boxes': ('0CF',), 'type': 'int', 'description': \"Nombre d'enfants à charge non mariés, qui ne sont pas en résidence alternée, de moins de 18 ans au 1er janvier de l'année de perception des revenus, ou nés durant la même année ou handicapés quel que soit leur âge\"},\n",
    "    {'boxes': ('0CG',), 'type': 'int', 'description': \"Nombre d'enfants qui ne sont pas en résidence alternée à charge titulaires de la carte d'invalidité.\"},\n",
    "    {'boxes': ('0CH',), 'type': 'int', 'description': \"Nombre d'enfants à charge en résidence alternée, non mariés de moins de 18 ans au 1er janvier de l'année de perception des revenus, ou nés durant la même année ou handicapés quel que soit leur âge\"},\n",
    "    {'boxes': ('0CI',), 'type': 'int', 'description': \"Nombre d'enfants à charge en résidence alternée titulaires de la carte d'invalidité\"},\n",
    "    {'boxes': ('0CR',), 'type': 'int', 'description': \"Nombre de titulaires (autres que les enfants) de la carte invalidité d'au moins 80 %\"},\n",
    "    {'boxes': ('0DJ',), 'type': 'int', 'description': \"Nombre d'enfants majeurs célibataires sans enfant\"},\n",
    "    {'boxes': ('0DN',), 'type': 'int', 'description': \"Nombre d'enfants mariés/pacsés et d'enfants non mariés chargés de famille\"},\n",
    "]"
   ]
  },
  {
   "attachments": {},
   "cell_type": "markdown",
   "metadata": {},
   "source": [
    "The household status boxes are a particular case:"
   ]
  },
  {
   "cell_type": "code",
   "execution_count": null,
   "metadata": {},
   "outputs": [],
   "source": [
    "variables += [\n",
    "    {'boxes': ('0AM',), 'type': 'bool', 'description': \"Marié·e\"},\n",
    "    {'boxes': ('0AO',), 'type': 'bool', 'description': \"Pacsé·e\"},\n",
    "    {'boxes': ('0AD',), 'type': 'bool', 'description': \"Divorcé·e/séparé·e\"},\n",
    "    {'boxes': ('0AC',), 'type': 'bool', 'description': \"Célibataire\"},\n",
    "    {'boxes': ('0AV',), 'type': 'bool', 'description': \"Veuf·ve\"},\n",
    "]"
   ]
  },
  {
   "cell_type": "code",
   "execution_count": null,
   "metadata": {},
   "outputs": [],
   "source": [
    "variables += [\n",
    "    {'boxes': ('5CD', '5DD', '5ED'), 'type': 'bool', 'description': \"Location meublée - durée d'exercice\"},\n",
    "]"
   ]
  },
  {
   "attachments": {},
   "cell_type": "markdown",
   "metadata": {},
   "source": [
    "* Deduplicate variables (because some variables can be found in multiple places).\n",
    "* Manually exclude some outdated variables (see below)."
   ]
  },
  {
   "cell_type": "code",
   "execution_count": null,
   "metadata": {},
   "outputs": [],
   "source": [
    "EXCLUDE_VARIABLES = {\n",
    "    ('5TI', '5UI', '5VI'),  # Outdated: code reused now for ('5UI', '5VI', '5WI') \n",
    "    ('3VA',),               # Old and duplicates ('3VA', '3VB', '3VO', '3VP') \n",
    "    ('3VB',),               # Old and duplicates ('3VA', '3VB', '3VO', '3VP') \n",
    "    ('3VP',),               # Outdated: code reused now for ('3VA', '3VB', '3VO', '3VP') \n",
    "}"
   ]
  },
  {
   "cell_type": "code",
   "execution_count": null,
   "metadata": {},
   "outputs": [],
   "source": [
    "variables_dict = {}\n",
    "for var in variables:\n",
    "    assert isinstance(var['boxes'], tuple)\n",
    "    if var['boxes'] in EXCLUDE_VARIABLES:\n",
    "        print(\"Excluded:\", var)\n",
    "    else:\n",
    "        variables_dict[var['boxes']] = var\n",
    "variables = list(variables_dict.values())"
   ]
  },
  {
   "attachments": {},
   "cell_type": "markdown",
   "metadata": {},
   "source": [
    "Check duplicate boxes. If there are duplicates, they should be handled manually.\n",
    "\n",
    "Since it means there are two different boxes with the same code (probably from different years). Use the exclusion list above."
   ]
  },
  {
   "cell_type": "code",
   "execution_count": null,
   "metadata": {},
   "outputs": [],
   "source": [
    "from collections import defaultdict\n",
    "\n",
    "boxes_counts = defaultdict(int)\n",
    "for var in variables:\n",
    "    for box in var['boxes']:\n",
    "        boxes_counts[box] += 1\n",
    "\n",
    "duplicated_boxes = [box for box, count in boxes_counts.items() if count > 1]\n",
    "print(\"Duplicates:\", duplicated_boxes, '\\n')\n",
    "\n",
    "for var in variables:\n",
    "    if any(box in duplicated_boxes for box in var['boxes']):\n",
    "        print(var['boxes'], '\\n', var['description'], '\\n')"
   ]
  },
  {
   "cell_type": "code",
   "execution_count": null,
   "metadata": {},
   "outputs": [],
   "source": [
    "assert not duplicated_boxes"
   ]
  },
  {
   "attachments": {},
   "cell_type": "markdown",
   "metadata": {},
   "source": [
    "Ajout de formulations inclusives et correction de coquilles"
   ]
  },
  {
   "cell_type": "code",
   "execution_count": null,
   "metadata": {},
   "outputs": [],
   "source": [
    "WORD_REPLACEMENTS = [\n",
    "    ('dun', \"d'un\"),\n",
    "    (\"lemploi\", \"l'emploi\"),\n",
    "    ('marié', 'marié·e'),\n",
    "    ('mariés', 'marié·e·s'),\n",
    "    ('âgé', 'âgé·e'),\n",
    "    ('âgés', 'âgé·e·s'),\n",
    "    ('pacsé', 'pacsé·e'),\n",
    "    ('pacsés', 'pacsé·e·s'),\n",
    "    ('né', 'né·e'),\n",
    "    ('nés', 'né·e·s'),\n",
    "    ('majeurs', 'majeur·e·s'),\n",
    "    ('handicapé', 'handicapé·e'),\n",
    "    ('handicapés', 'handicapé·e·s'),\n",
    "    ('salariés', 'salarié·e·s'),\n",
    "    ('pensionnés', 'pensionné·e·s'),\n",
    "    ('un salarié', 'un·e salarié·e'),\n",
    "    ('dun salarié', 'dun·e salarié·e'),\n",
    "    ('inventeurs', 'inventeur·euse·s'),\n",
    "    ('auteurs', 'auteur·ice·s'),\n",
    "    ('demandeur', 'demandeur·euse'),\n",
    "    ('inscrit', 'inscrit·e'),    \n",
    "]\n",
    "LETTER_REPLACEMENTS = [\n",
    "    ('Ã©', 'é')\n",
    "]\n",
    "for var in variables:\n",
    "    if not var['description']:\n",
    "        continue\n",
    "    if not var['description'].endswith('.'):\n",
    "        var['description'] = var['description'] + '.'\n",
    "    for lookup, repl in WORD_REPLACEMENTS:\n",
    "        var['description'] = re.sub(r\"\\b%s\\b\" % lookup, repl, var['description'])\n",
    "        var['description'] = re.sub(r\"\\b%s\\b\" % lookup.capitalize(), repl.capitalize(), var['description'])\n",
    "    for lookup, repl in LETTER_REPLACEMENTS:\n",
    "        var['description'] = var['description'].replace(lookup, repl)"
   ]
  },
  {
   "cell_type": "code",
   "execution_count": null,
   "metadata": {},
   "outputs": [],
   "source": [
    "with open(CERFA_VARIABLES_PATH, 'w+') as f:\n",
    "    json.dump(variables, f, indent=2)"
   ]
  }
 ],
 "metadata": {
  "kernelspec": {
   "display_name": ".venv",
   "language": "python",
   "name": "python3"
  },
  "language_info": {
   "codemirror_mode": {
    "name": "ipython",
    "version": 3
   },
   "file_extension": ".py",
   "mimetype": "text/x-python",
   "name": "python",
   "nbconvert_exporter": "python",
   "pygments_lexer": "ipython3"
  }
 },
 "nbformat": 4,
 "nbformat_minor": 2
}
