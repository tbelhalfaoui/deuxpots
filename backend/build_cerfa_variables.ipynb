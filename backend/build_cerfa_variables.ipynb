{
 "cells": [
  {
   "attachments": {},
   "cell_type": "markdown",
   "metadata": {},
   "source": [
    "## Extract CERFA variables from Openfisca-France repo (and apply some manual tweaks)"
   ]
  },
  {
   "cell_type": "code",
   "execution_count": null,
   "metadata": {},
   "outputs": [],
   "source": [
    "import pkgutil\n",
    "import json\n",
    "\n",
    "from openfisca_france import model\n",
    "from openfisca_france.model.base import Variable\n",
    "\n",
    "from deuxpots import CERFA_VARIABLES_PATH"
   ]
  },
  {
   "attachments": {},
   "cell_type": "markdown",
   "metadata": {},
   "source": [
    "Import all modules from OpenFisca-France model (so that __subclass__ finds them)."
   ]
  },
  {
   "cell_type": "code",
   "execution_count": null,
   "metadata": {},
   "outputs": [],
   "source": [
    "__all__ = []\n",
    "for loader, module_name, is_pkg in pkgutil.walk_packages(model.__path__):\n",
    "    __all__.append(module_name)\n",
    "    _module = loader.find_module(module_name).load_module(module_name)\n",
    "    globals()[module_name] = _module"
   ]
  },
  {
   "cell_type": "code",
   "execution_count": null,
   "metadata": {},
   "outputs": [],
   "source": [
    "variables = []\n",
    "for cls in Variable.__subclasses__():\n",
    "    try:\n",
    "        cerfa = cls.cerfa_field\n",
    "    except AttributeError:\n",
    "        continue\n",
    "    if isinstance(cerfa, dict):\n",
    "        boxes = [cerfa[k] for k in sorted(cerfa)]\n",
    "    elif isinstance(cerfa, str):\n",
    "        boxes = [cerfa]\n",
    "    else:\n",
    "        raise ValueError(\"cerfa_field is neither a dict nor a string.\")\n",
    "    if len(boxes) == 1 and len(boxes[0]) == 1:  # Exclude single-letter \"family\" boxes (to be added manually later on)\n",
    "        continue\n",
    "    var_type = cls.value_type.__name__\n",
    "    variable = {\n",
    "        'boxes': boxes,\n",
    "        'type': 'int' if var_type == 'float' else var_type,\n",
    "        'description': getattr(cls, 'label', None),\n",
    "    }\n",
    "    variables.append(variable)"
   ]
  },
  {
   "attachments": {},
   "cell_type": "markdown",
   "metadata": {},
   "source": [
    "Add some new boxes from 2023, that are not present in Openfisca yet."
   ]
  },
  {
   "cell_type": "code",
   "execution_count": null,
   "metadata": {},
   "outputs": [],
   "source": [
    "variables += [\n",
    "    {\n",
    "        'boxes': [\"8HV\", \"8IV\", \"8JV\", \"8KV\"],\n",
    "        'type': 'int',\n",
    "        'description': \"Prélèvement à la source déjà payé - retenue à la source sur les salaires et pensions\",\n",
    "    },\n",
    "    {\n",
    "        'boxes': [\"8HW\", \"8IW\", \"8JW\", \"8KW\"],\n",
    "        'type': 'int',\n",
    "        'description': \"Prélèvement à la source déjà payé - acomptes d'impôt sur le revenu\",\n",
    "    },\n",
    "    {\n",
    "        'boxes': [\"8HX\", \"8IX\", \"8JX\", \"8KX\"],\n",
    "        'type': 'int',\n",
    "        'description': \"Prélèvement à la source déjà payé - acomptes de prélèvements sociaux\",\n",
    "    },\n",
    "    {\n",
    "        'boxes': [\"8HY\", \"8IY\", \"8JY\", \"8KY\"],\n",
    "        'type': 'int',\n",
    "        'description': \"Prélèvement à la source - Remboursement de trop-prélevé déjà obtenu - impôt sur le revenu\",\n",
    "    },\n",
    "    {\n",
    "        'boxes': [\"8HZ\", \"8IZ\", \"8JZ\", \"8KZ\"],\n",
    "        'type': 'int',\n",
    "        'description': \"Prélèvement à la source déjà payé - Remboursement de trop-prélevé déjà obtenu - prélèvements sociaux\",\n",
    "    },\n",
    "]"
   ]
  },
  {
   "attachments": {},
   "cell_type": "markdown",
   "metadata": {},
   "source": [
    "The family boxes (booleans or small integer) are added manually, because:\n",
    "- Their codes are ambigouous (e.g. in openfisca, there are two \"F\" boxes).\n",
    "- The codes used in the online simulator are prefixed by the section letter: A, B, C or D (e.g. \"AF\" instead of \"F\").\n",
    "- Somme boxes are not grouped together whereas they should (e.g. \"AP\" and \"AF\" are the same, but for the two partners)."
   ]
  },
  {
   "cell_type": "code",
   "execution_count": null,
   "metadata": {},
   "outputs": [],
   "source": [
    "variables += [\n",
    "    # {'boxes': ['AG'], 'type': 'bool', 'description': \"Titulaire d'une pension de veuve de guerre\"},\n",
    "    # {'boxes': ['AN'], 'type': 'bool', 'description': \"Vous ne viviez pas seul au 1er janvier de l'année de perception des revenus\"},\n",
    "    # {'boxes': ['AL'], 'type': 'bool', 'description': \"Situation pouvant donner droit à une demi-part supplémentaire: vous vivez seul au 1er janvier de l'année de perception des revenus et vous avez élevé un enfant pendant au moins 5 ans durant la période où vous viviez seul (définition depuis 2009) - Un au moins de vos enfants à charge ou rattaché est issu du mariage avec votre conjoint décédé (définition avant 2008)\"},\n",
    "    {'boxes': ['0AP', '0AF'], 'type': 'bool', 'description': \"Titulaire d'une pension pour une invalidité d'au moins 40 % ou d'une carte d'invalidité d'au moins 80%\"},\n",
    "    {'boxes': ['0AW', '0AS'], 'type': 'bool', 'description': \"Vous êtes âgé de plus de 74 ans, vous êtes titulaire de la carte du combattant ou d'une pension militaire d'invalidité ou de victime de guerre\"},\n",
    "    {'boxes': ['0CF'], 'type': 'int', 'description': \"Nombre d'enfants à charge non mariés, qui ne sont pas en résidence alternée, de moins de 18 ans au 1er janvier de l'année de perception des revenus, ou nés durant la même année ou handicapés quel que soit leur âge\"},\n",
    "    {'boxes': ['0CG'], 'type': 'int', 'description': \"Nombre d'enfants qui ne sont pas en résidence alternée à charge titulaires de la carte d'invalidité.\"},\n",
    "    {'boxes': ['0CH'], 'type': 'int', 'description': \"Nombre d'enfants à charge en résidence alternée, non mariés de moins de 18 ans au 1er janvier de l'année de perception des revenus, ou nés durant la même année ou handicapés quel que soit leur âge\"},\n",
    "    {'boxes': ['0CI'], 'type': 'int', 'description': \"Nombre d'enfants à charge en résidence alternée titulaires de la carte d'invalidité\"},\n",
    "    {'boxes': ['0CR'], 'type': 'int', 'description': \"Nombre de titulaires (autres que les enfants) de la carte invalidité d'au moins 80 %\"},\n",
    "    {'boxes': ['0DJ'], 'type': 'int', 'description': \"Nombre d'enfants majeurs célibataires sans enfant\"},\n",
    "    {'boxes': ['0DN'], 'type': 'int', 'description': \"Nombre d'enfants mariés/pacsés et d'enfants non mariés chargés de famille\"},\n",
    "]"
   ]
  },
  {
   "attachments": {},
   "cell_type": "markdown",
   "metadata": {},
   "source": [
    "The household status boxes are a particular case, because they are not prefixed in the simulator."
   ]
  },
  {
   "cell_type": "code",
   "execution_count": null,
   "metadata": {},
   "outputs": [],
   "source": [
    "variables += [\n",
    "    {'boxes': ['M'], 'type': 'bool', 'description': \"Marié·e\"},\n",
    "    {'boxes': ['O'], 'type': 'bool', 'description': \"Pacsé·e\"},\n",
    "    {'boxes': ['D'], 'type': 'bool', 'description': \"Divorcé·e/séparé·e\"},\n",
    "    {'boxes': ['C'], 'type': 'bool', 'description': \"Célibataire\"},\n",
    "    {'boxes': ['V'], 'type': 'bool', 'description': \"Veuf·ve\"},\n",
    "]"
   ]
  },
  {
   "cell_type": "code",
   "execution_count": null,
   "metadata": {},
   "outputs": [],
   "source": [
    "with open(CERFA_VARIABLES_PATH, 'w+') as f:\n",
    "    json.dump(variables, f, indent=2)"
   ]
  },
  {
   "attachments": {},
   "cell_type": "markdown",
   "metadata": {},
   "source": [
    "## Prepare for image annotation\n",
    "Extract page 2 of a tax sheet as an image. This image can then be used in Labelme to annotate the coordinates of each family box to extract."
   ]
  },
  {
   "cell_type": "code",
   "execution_count": null,
   "metadata": {},
   "outputs": [],
   "source": [
    "import fitz\n",
    "from fitz import Rect\n",
    "\n",
    "PDF_PATH = \"declaration.pdf\"\n",
    "\n",
    "doc = fitz.open(PDF_PATH)\n",
    "family_page = doc[1]\n",
    "family_page.get_pixmap(clip=family_page.rect).save(\"family_page.png\")"
   ]
  }
 ],
 "metadata": {
  "kernelspec": {
   "display_name": ".venv",
   "language": "python",
   "name": "python3"
  },
  "language_info": {
   "codemirror_mode": {
    "name": "ipython",
    "version": 3
   },
   "file_extension": ".py",
   "mimetype": "text/x-python",
   "name": "python",
   "nbconvert_exporter": "python",
   "pygments_lexer": "ipython3"
  }
 },
 "nbformat": 4,
 "nbformat_minor": 2
}
