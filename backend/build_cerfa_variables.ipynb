{
 "cells": [
  {
   "attachments": {},
   "cell_type": "markdown",
   "metadata": {},
   "source": [
    "# Extract CERFA variables from the tax simulator"
   ]
  },
  {
   "cell_type": "code",
   "execution_count": 31,
   "metadata": {},
   "outputs": [],
   "source": [
    "from bs4 import BeautifulSoup\n",
    "import requests\n",
    "import re\n",
    "from collections import defaultdict\n",
    "from tqdm.notebook import tqdm\n",
    "import json\n",
    "\n",
    "from deuxpots import CERFA_VARIABLES_PATH"
   ]
  },
  {
   "cell_type": "code",
   "execution_count": 32,
   "metadata": {},
   "outputs": [],
   "source": [
    "SIMULATOR_HTML_URL = 'https://simulateur-ir-ifi.impots.gouv.fr/calcul_impot/2023/complet/index.htm'"
   ]
  },
  {
   "attachments": {},
   "cell_type": "markdown",
   "metadata": {},
   "source": [
    "## Get simulator HTML page"
   ]
  },
  {
   "cell_type": "code",
   "execution_count": 33,
   "metadata": {},
   "outputs": [],
   "source": [
    "response = requests.get(SIMULATOR_HTML_URL)\n",
    "soup = BeautifulSoup(response.text)"
   ]
  },
  {
   "cell_type": "code",
   "execution_count": 34,
   "metadata": {},
   "outputs": [],
   "source": [
    "REGEX_WHITESPACES = re.compile(r'\\s+')\n",
    "def clean_text(text):\n",
    "    return REGEX_WHITESPACES.sub(' ', text).strip().strip('-:– ')"
   ]
  },
  {
   "attachments": {},
   "cell_type": "markdown",
   "metadata": {},
   "source": [
    "## Extract boxes\n",
    "\n",
    "Iterate over `input` fields and look at their `aria-labelledby` property to get their description."
   ]
  },
  {
   "cell_type": "code",
   "execution_count": 35,
   "metadata": {},
   "outputs": [
    {
     "data": {
      "application/vnd.jupyter.widget-view+json": {
       "model_id": "7c681a8dc55e4ee4b4b11b0bfb11b5af",
       "version_major": 2,
       "version_minor": 0
      },
      "text/plain": [
       "  0%|          | 0/1438 [00:00<?, ?it/s]"
      ]
     },
     "metadata": {},
     "output_type": "display_data"
    }
   ],
   "source": [
    "BOXCODE_REGEX = re.compile(r'^[0-9A-Z]{2,3}$')    \n",
    "USE_TITLE_FOR = {\"5VA\", \"7JP\"}\n",
    "\n",
    "input_fields = soup.find_all('input', type=['text', 'checkbox', 'radio'])\n",
    "\n",
    "boxcodes_missing_chunks = set()\n",
    "\n",
    "boxes = []\n",
    "for field in tqdm(input_fields):\n",
    "    # 0. Preprocessing\n",
    "    labelled_by = field.get('aria-labelledby')\n",
    "    if not labelled_by:\n",
    "        continue\n",
    "    ref_ids = labelled_by.split()\n",
    "    if not ref_ids[0] == 'case':\n",
    "        continue\n",
    "\n",
    "    # 1. Extract box code\n",
    "    field_title = clean_text(field['title'])\n",
    "    if field_title in USE_TITLE_FOR:\n",
    "        boxcode = field_title\n",
    "    else:\n",
    "        ref_ids.pop(0)\n",
    "        ref_id_box = ref_ids.pop(0)\n",
    "        boxcode_tag = field.find_previous(id=ref_id_box)\n",
    "        if not boxcode_tag:\n",
    "            # For checkboxes, the label is after the box (on the right hand side)\n",
    "            boxcode_tag = field.find_next(id=ref_id_box) \n",
    "        if boxcode_tag:\n",
    "            boxcode = clean_text(boxcode_tag.text)\n",
    "        else:\n",
    "            boxcode = field_title\n",
    "    if not boxcode:\n",
    "        print(f\"Not found: {ref_id_box}\\t\", labelled_by)\n",
    "        continue\n",
    "    if not BOXCODE_REGEX.match(boxcode):\n",
    "        print(\"Weird boxcode: \", boxcode, ref_ids)\n",
    "    \n",
    "    # 2. Extract description chunks\n",
    "    ref_ids.remove('pause')\n",
    "    section_tag = field.find_previous(lambda tag: tag.get('class') == ['bgCommonDarkPart'] and tag.find('strong'))\n",
    "    section_text = clean_text(section_tag.text)\n",
    "    description_chunks = []\n",
    "    for i, ref_id in enumerate(ref_ids):\n",
    "        ref_tag = field.find_previous(id=ref_id)\n",
    "        # When the tag if found after the box, it is actually a mistake in the simulator.\n",
    "        # (i.e. the tag should not be there). So it is best to skip it.\n",
    "        if not ref_tag:\n",
    "            boxcodes_missing_chunks.add(boxcode)\n",
    "            continue\n",
    "        ref_text = clean_text(ref_tag.text)\n",
    "        # Prepend the big section title if not already referenced in \"aria-labelledby\"\n",
    "        if i == 0 and section_text != ref_text:\n",
    "            description_chunks.append(section_text)\n",
    "        description_chunks.append(ref_text)\n",
    "    boxes.append({\n",
    "        'code': boxcode,\n",
    "        'description_chunks': description_chunks,\n",
    "        'type': 'int' if field['type'] == 'text' else 'bool'\n",
    "    })"
   ]
  },
  {
   "cell_type": "code",
   "execution_count": 36,
   "metadata": {},
   "outputs": [],
   "source": [
    "boxes_by_code = {box['code']: box for box in boxes}"
   ]
  },
  {
   "attachments": {},
   "cell_type": "markdown",
   "metadata": {},
   "source": [
    "## Check duplicates"
   ]
  },
  {
   "cell_type": "code",
   "execution_count": 37,
   "metadata": {},
   "outputs": [],
   "source": [
    "boxes_counts = defaultdict(int)\n",
    "for box in boxes:\n",
    "    boxes_counts[box['code']] += 1\n",
    "\n",
    "for box in boxes:\n",
    "    if boxes_counts[box['code']] > 1:\n",
    "        print(box['code'], box['description'], box['attribution'])"
   ]
  },
  {
   "attachments": {},
   "cell_type": "markdown",
   "metadata": {},
   "source": [
    "## Add attributions (from chunks)"
   ]
  },
  {
   "cell_type": "code",
   "execution_count": 38,
   "metadata": {},
   "outputs": [],
   "source": [
    "ATTRIBUTION_FIELDS = {'Déclarant 1', 'Déclarant 2', 'Personne à charge', '1ère personne à charge', '2ème personne à charge'}\n",
    "for box in boxes:\n",
    "    chunks = box['description_chunks']\n",
    "    if chunks and chunks[-1] in ATTRIBUTION_FIELDS:\n",
    "        box['attribution'] = chunks.pop()\n",
    "    else:\n",
    "        box['attribution'] = None"
   ]
  },
  {
   "attachments": {},
   "cell_type": "markdown",
   "metadata": {},
   "source": [
    "## Manually override some mislabelled fields"
   ]
  },
  {
   "cell_type": "code",
   "execution_count": 39,
   "metadata": {},
   "outputs": [],
   "source": [
    "MANUAL_FIELDS_OVERRIDE = {\n",
    "    '1AV': {'attribution': 'Déclarant 1'},\n",
    "    '1BV': {'attribution': 'Déclarant 2'},\n",
    "    '1CH': {'attribution': '1ère personne à charge'},\n",
    "    '1DH': {'attribution': '2ème personne à charge'},\n",
    "    '5HH': {'description_chunks': boxes_by_code['5IH']['description_chunks']},\n",
    "    '5VJ': {'description_chunks': boxes_by_code['5UJ']['description_chunks']},\n",
    "    '1BH': {'attribution': 'Déclarant 2'},\n",
    "    '8HV': {'attribution': '2ème personne à charge'},\n",
    "    '8HW': {'attribution': 'Déclarant 1'},\n",
    "    '8HX': {'attribution': 'Déclarant 1'},\n",
    "    '8HY': {'attribution': 'Déclarant 1'},\n",
    "    '8HZ': {'attribution': 'Déclarant 1'},\n",
    "    '8SI': {'attribution': 'Déclarant 2'},\n",
    "    '5UC': {'attribution': 'Déclarant 2'},\n",
    "    '5VC': {'attribution': 'Personne à charge'},\n",
    "    '8HV': {'attribution': 'Déclarant 1'},\n",
    "\n",
    "    '5TA': {'description_chunks': boxes_by_code['5TA']['description_chunks'][0:-1] + ['Ventes de marchandises et assimilées'] + boxes_by_code['5TA']['description_chunks'][-1:]},\n",
    "    '5UA': {'description_chunks': boxes_by_code['5TA']['description_chunks'][0:-1] + ['Ventes de marchandises et assimilées'] + boxes_by_code['5TA']['description_chunks'][-1:]},\n",
    "    '5VA': {'description_chunks': boxes_by_code['5TA']['description_chunks'][0:-1] + ['Ventes de marchandises et assimilées'] + boxes_by_code['5TA']['description_chunks'][-1:]},\n",
    "    \n",
    "    '5TJ': {'description_chunks': boxes_by_code['5TJ']['description_chunks'][0:-1] + ['Ventes de marchandises et assimilées'] + boxes_by_code['5TJ']['description_chunks'][-1:]},\n",
    "    '5UJ': {'description_chunks': boxes_by_code['5TJ']['description_chunks'][0:-1] + ['Ventes de marchandises et assimilées'] + boxes_by_code['5TJ']['description_chunks'][-1:]},\n",
    "    '5VJ': {'description_chunks': boxes_by_code['5TJ']['description_chunks'][0:-1] + ['Ventes de marchandises et assimilées'] + boxes_by_code['5TJ']['description_chunks'][-1:]},\n",
    "    \n",
    "    '5TB': {'description_chunks': boxes_by_code['5TB']['description_chunks'][0:-1] + ['Prestations de services et locations meublées'] + boxes_by_code['5TB']['description_chunks'][-1:]},\n",
    "    '5UB': {'description_chunks': boxes_by_code['5TB']['description_chunks'][0:-1] + ['Prestations de services et locations meublées'] + boxes_by_code['5TB']['description_chunks'][-1:]},\n",
    "    '5VB': {'description_chunks': boxes_by_code['5TB']['description_chunks'][0:-1] + ['Prestations de services et locations meublées'] + boxes_by_code['5TB']['description_chunks'][-1:]},\n",
    "    \n",
    "    '5TK': {'description_chunks': boxes_by_code['5TK']['description_chunks'][0:-1] + ['Prestations de services et locations meublées'] + boxes_by_code['5TK']['description_chunks'][-1:]},\n",
    "    '5UK': {'description_chunks': boxes_by_code['5TK']['description_chunks'][0:-1] + ['Prestations de services et locations meublées'] + boxes_by_code['5TK']['description_chunks'][-1:]},\n",
    "    '5VK': {'description_chunks': boxes_by_code['5TK']['description_chunks'][0:-1] + ['Prestations de services et locations meublées'] + boxes_by_code['5TK']['description_chunks'][-1:]},\n",
    "\n",
    "    '5AF': {'description_chunks': boxes_by_code['5AD']['description_chunks'][0:] + boxes_by_code['5AF']['description_chunks']},\n",
    "    '5AI': {'description_chunks': boxes_by_code['5AD']['description_chunks'][0:] + boxes_by_code['5AF']['description_chunks']},\n",
    "    '5AH': {'description_chunks': boxes_by_code['5AD']['description_chunks'][0:] + boxes_by_code['5AF']['description_chunks']},\n",
    "\n",
    "    '6QS': {'description_chunks': [\"Autres cotisations déduites des BIC, BNC, BA, rémun. art 62 CGI ou salaires\"] + boxes_by_code['6QS']['description_chunks']},\n",
    "    '6QT': {'description_chunks': [\"Autres cotisations déduites des BIC, BNC, BA, rémun. art 62 CGI ou salaires\"] + boxes_by_code['6QS']['description_chunks']},\n",
    "    '6QU': {'description_chunks': [\"Autres cotisations déduites des BIC, BNC, BA, rémun. art 62 CGI ou salaires\"] + boxes_by_code['6QS']['description_chunks']},\n",
    "    \n",
    "    '7WC': {'description_chunks': [\n",
    "        \"PROROGATION EN 2022 DE L'ENGAGEMENT DE LOCATION DANS LE SECTEUR INTERMÉDIAIRE\",\n",
    " \t    \"Investissements en métropole et dans les DOM-COM\",\n",
    "        \"Investissements achevés en 2013\",\n",
    "        \"Investissements réalisés en 2013\",\n",
    "        \"Investissement réalisé du 1.1 au 31.3.2013 avec contrat de réservation enregistré au plus tard le 31/12/2012\",\n",
    "    ]},\n",
    "\n",
    "    '7BK': {'description_chunks': boxes_by_code['7BK']['description_chunks'] + [\"15%\"]},\n",
    "    '7BL': {'description_chunks': boxes_by_code['7BL']['description_chunks'] + [\"20%\"]},\n",
    "    '7BM': {'description_chunks': boxes_by_code['7BM']['description_chunks'] + [\"35%\"]},\n",
    "    '7BN': {'description_chunks': boxes_by_code['7BN']['description_chunks'] + [\"40%\"]},\n",
    "    '7BO': {'description_chunks': boxes_by_code['7BO']['description_chunks'] + [\"65%\"]},\n",
    "    \n",
    "    '7ZQ': {'description_chunks': boxes_by_code['7ZQ']['description_chunks'] + [\"Dans l'habitation principale\", \"1er système\"]},\n",
    "    '7ZR': {'description_chunks': boxes_by_code['7ZR']['description_chunks'] + [\"Dans l'habitation principale\", \"2eme système\"]},\n",
    "    '7ZS': {'description_chunks': boxes_by_code['7ZS']['description_chunks'] + [\"Dans l'habitation secondaire\", \"1er système\"]},\n",
    "    '7ZT': {'description_chunks': boxes_by_code['7ZT']['description_chunks'] + [\"Dans l'habitation secondaire\", \"2eme système\"]},\n",
    "\n",
    "    '7TK': {'description_chunks': boxes_by_code['7TK']['description_chunks'][0:2] + boxes_by_code['7TJ']['description_chunks'][-2:-1] + boxes_by_code['7TK']['description_chunks'][2:]},\n",
    "    '7TO': {'description_chunks': boxes_by_code['7TO']['description_chunks'][0:2] + boxes_by_code['7TM']['description_chunks'][-2:-1] + boxes_by_code['7TO']['description_chunks'][2:]},\n",
    "    '7TQ': {'description_chunks': boxes_by_code['7TQ']['description_chunks'][0:2] + boxes_by_code['7TP']['description_chunks'][-2:-1] + boxes_by_code['7TQ']['description_chunks'][2:]},\n",
    "    '7TS': {'description_chunks': boxes_by_code['7TS']['description_chunks'][0:2] + boxes_by_code['7TR']['description_chunks'][-2:-1] + boxes_by_code['7TS']['description_chunks'][2:]},\n",
    "\n",
    "    '5ZW': {'description_chunks': boxes_by_code['5XZ']['description_chunks']},\n",
    "}\n",
    "\n",
    "\n",
    "for boxcode, fields_map in MANUAL_FIELDS_OVERRIDE.items():\n",
    "    for field_name, field_value in fields_map.items():\n",
    "        boxes_by_code[boxcode][field_name] = field_value"
   ]
  },
  {
   "attachments": {},
   "cell_type": "markdown",
   "metadata": {},
   "source": [
    "## Add description field"
   ]
  },
  {
   "cell_type": "code",
   "execution_count": 40,
   "metadata": {},
   "outputs": [],
   "source": [
    "for box in boxes:\n",
    "    box['description'] = ' - '.join(box['description_chunks'])"
   ]
  },
  {
   "attachments": {},
   "cell_type": "markdown",
   "metadata": {},
   "source": [
    "## Visual checks"
   ]
  },
  {
   "attachments": {},
   "cell_type": "markdown",
   "metadata": {},
   "source": [
    "### Inspect the description for the fields where some labels were not found  "
   ]
  },
  {
   "cell_type": "code",
   "execution_count": 41,
   "metadata": {},
   "outputs": [
    {
     "name": "stdout",
     "output_type": "stream",
     "text": [
      "7IG VOS CHARGES OUVRANT DROIT A RÉDUCTION D'IMPÔT OU A CREDIT D'IMPÔT - Investissements achevés en 2016 - Investissements réalisés en 2012\n",
      "7KO Investissements réalisés en 2012 - Engagement de réalisation de l’investissement en 2012\n",
      "HIU AUTRES CHARGES OUVRANT DROIT A RÉDUCTION D'IMPÔT : Investissements outre-mer - RÉDUCTION D’IMPÔT POUR INVESTISSEMENTS OUTRE-MER DANS LE CADRE D’UNE ENTREPRISE - Investissements réalisés en 2022 - Investissements dans votre entreprise\n",
      "7WY Investissements achevés en 2013 en Polynésie française, Nouvelle Calédonie, dans les îles Wallis et Futuna - Investissements réalisés en 2011 ou réalisés en 2012 avec promesse d’achat en 2011\n",
      "7CH VOS CHARGES OUVRANT DROIT A RÉDUCTION D'IMPÔT OU A CREDIT D'IMPÔT - Souscription au capital de PME, d’entreprises d’utilité sociale et de sociétés foncières et solidaires - Versements PME et ESUS effectués du 18.03 au 31.12.2022\n",
      "6QS Autres cotisations déduites des BIC, BNC, BA, rémun. art 62 CGI ou salaires - VOS CHARGES ET IMPUTATIONS DIVERSES - Épargne retraite PERP et PRODUITS ASSIMILÉS (PER, PREFON, COREM et C.G.O.S.)\n",
      "7WG Logement acquis en état futur d’achévement avec contrat de réservation enregistré au plus tard le 31/12/2011 - investissement réalisé du 1.4 au 31.12.2012\n",
      "5AI REVENUS AGRICOLES - Durée de l’exercice nombre de mois - En cas de cession ou cessation d'activité en 2022\n",
      "7XI Investissements réalisés en 2011 - Engagement de réalisation de l’investissement en 2010\n",
      "7SH VOS CHARGES OUVRANT DROIT A RÉDUCTION D'IMPÔT OU A CREDIT D'IMPÔT - Investissements achevés en 2012 - Engagement de réalisation de l’investissement en 2011\n",
      "7YZ Investissements réalisés en 2009\n",
      "HER AUTRES CHARGES OUVRANT DROIT A RÉDUCTION D'IMPÔT : Investissements outre-mer - Investissements réalisés en 2018 - Investissements ayant fait l’objet en 2013 ou 2014 d’une demande d’agrément, d’une déclaration d’ouverture de chantier ou d’un acompte d’au moins 50 % - Investissements dans votre entreprise avec exploitation directe\n",
      "7WF Logement acquis en état futur d’achévement avec contrat de réservation enregistré au plus tard le 31/12/2011 - investissement réalisé du 1.1 au 31.3.2012\n",
      "5VJ MICRO-ENTREPRENEUR (auto-entrepreneur) AYANT OPTÉ POUR LE VERSEMENT LIBERATOIRE DE L'IMPÔT SUR LE REVENU - Revenus industriels et commerciaux Chiffre d'affaires brut - Ventes de marchandises et assimilées - chiffre d'affaires de janvier et/ou février 2022 déduit pour le calcul des cotisations sociales en 2022\n",
      "1AV TRAITEMENTS ET SALAIRES - En cas de majoration du seuil d'exonération\n",
      "7SK VOS CHARGES OUVRANT DROIT A RÉDUCTION D'IMPÔT OU A CREDIT D'IMPÔT - Investissements achevés en 2012 - Logement acquis en état d’achévement avec contrat de réservation enregistré au plus tard le 31/12/2010 - investissement réalisé du 1.4 au 31.12.2011\n",
      "6QT Autres cotisations déduites des BIC, BNC, BA, rémun. art 62 CGI ou salaires - VOS CHARGES ET IMPUTATIONS DIVERSES - Épargne retraite PERP et PRODUITS ASSIMILÉS (PER, PREFON, COREM et C.G.O.S.)\n",
      "7SJ VOS CHARGES OUVRANT DROIT A RÉDUCTION D'IMPÔT OU A CREDIT D'IMPÔT - Investissements achevés en 2012 - Logement acquis en état d’achévement avec contrat de réservation enregistré au plus tard le 31/12/2010 - investissement réalisé du 1.1 au 31.3.2012\n",
      "7YX Investissements réalisés en 2010\n",
      "7GU Investissements achevés en 2012 en Polynésie française, Nouvelle Calédonie, dans les îles Wallis et Futuna - Investissements réalisés en 2011 ou 2012 avec promesse d’achat en 2011\n",
      "7XJ Logement acquis en état futur d’achévement avec contrat de réservation enregistré au plus tard le 31/12/2010 - investissement réalisé du 1.1 au 31.3.2011\n",
      "7WC PROROGATION EN 2022 DE L'ENGAGEMENT DE LOCATION DANS LE SECTEUR INTERMÉDIAIRE - Investissements en métropole et dans les DOM-COM - Investissements achevés en 2013 - Investissements réalisés en 2013 - Investissement réalisé du 1.1 au 31.3.2013 avec contrat de réservation enregistré au plus tard le 31/12/2012\n",
      "7YY Investissements réalisés en 2010 avec promesse d'achat en 2009\n",
      "7SI VOS CHARGES OUVRANT DROIT A RÉDUCTION D'IMPÔT OU A CREDIT D'IMPÔT - Investissements achevés en 2012 - Engagement de réalisation de l’investissement en 2010\n",
      "7WZ Investissements achevés en 2013 en Polynésie française, Nouvelle Calédonie, dans les îles Wallis et Futuna - Investissements réalisés en 2012 ou réalisés du 1.1 au 31.3.2013 avec engagement en 2012\n",
      "7MW VOS CHARGES OUVRANT DROIT A RÉDUCTION D'IMPÔT OU A CREDIT D'IMPÔT - Investissements destinés à la location meublée non professionnelle : Loi CENSI-BOUVARD - Investissements réalisés en 2021\n",
      "HKC AUTRES CHARGES OUVRANT DROIT A RÉDUCTION D'IMPÔT : Investissements outre-mer - Investissements outre-mer dans le logement et autres secteurs d'activité : montant de la réduction d'impôt - Investissements réalisés en 2017\n",
      "7GX Investissements achevés en 2012 en Polynésie française, Nouvelle Calédonie, dans les îles Wallis et Futuna - Investissements réalisés en 2012\n",
      "7MZ VOS CHARGES OUVRANT DROIT A RÉDUCTION D'IMPÔT OU A CREDIT D'IMPÔT - Investissements destinés à la location meublée non professionnelle : Loi CENSI-BOUVARD - Investissements réalisés en 2020\n",
      "6QU Autres cotisations déduites des BIC, BNC, BA, rémun. art 62 CGI ou salaires - VOS CHARGES ET IMPUTATIONS DIVERSES - Épargne retraite PERP et PRODUITS ASSIMILÉS (PER, PREFON, COREM et C.G.O.S.)\n",
      "7AI VOS CHARGES OUVRANT DROIT A RÉDUCTION D'IMPÔT OU A CREDIT D'IMPÔT - Investissements locatifs neufs : loi Scellier - Prorogation en 2021 - Investissements en Polynésie française, Nouvelle Calédonie, dans les îles Wallis et Futuna - Investissements achevés en 2015\n",
      "7BJ Investissements réalisés en 2012 - Investissements réalisés du 1.1 au 31.3.2013 avec engagement de réalisation en 2012\n",
      "7OO VOS CHARGES OUVRANT DROIT A RÉDUCTION D'IMPÔT OU A CREDIT D'IMPÔT - Investissements destinés à la location meublée non professionnelle : Loi CENSI-BOUVARD - réalisés en 2009 ou réalisés en 2010 avec promesse d'achat en 2009\n",
      "7ZO VOS CHARGES OUVRANT DROIT A RÉDUCTION D'IMPÔT OU A CREDIT D'IMPÔT - Investissements locatifs neufs : loi Scellier - Investissements en métropole et dans les DOM-COM - Investissements réalisés en 2011 et achevés de 2011 à 2016; réalisés en 2012 avec promesse d'achat en 2011 et achevés de 2012 à 2016 - Report du solde de réduction de l’année 2016\n",
      "7XN VOS CHARGES OUVRANT DROIT A RÉDUCTION D'IMPÔT OU A CREDIT D'IMPÔT - Investissements locatifs neufs : loi Scellier - Prorogation en 2020 - Investissements en Polynésie française, Nouvelle Calédonie, dans les îles Wallis et Futuna - Investissements achevés en 2014\n",
      "HGT AUTRES CHARGES OUVRANT DROIT A RÉDUCTION D'IMPÔT : Investissements outre-mer - Investissements réalisés en 2019 - Investissements réalisés en 2020 - Investissements donnés en location à une entreprise exploitante à laquelle vous rétrocédez la réduction d'impôt\n",
      "7WX Investissements achevés en 2013 en Polynésie française, Nouvelle Calédonie, dans les îles Wallis et Futuna - Investissements réalisés en 2011 avec promesse d’achat en 2010\n",
      "5AF REVENUS AGRICOLES - Durée de l’exercice nombre de mois - En cas de cession ou cessation d'activité en 2022\n",
      "7KQ Investissements réalisés en 2012 - Logement acquis en état d’achévement avec contrat de réservation enregistré au plus tard le 31/12/2011 - investissement réalisé du 1.1 au 31.3.2012\n",
      "7KN Investissements réalisés en 2011 - Logement acquis en état futur d’achévement avec contrat de réservation enregistré au plus tard le 31/12/2010 - investissement réalisé du 1.4 au 31.12.2011\n",
      "7XH Investissements réalisés en 2011 - Engagement de réalisation de l’investissement en 2011\n",
      "HHC AUTRES CHARGES OUVRANT DROIT A RÉDUCTION D'IMPÔT : Investissements outre-mer - Investissements outre-mer dans le logement et autres secteurs d'activité : montant de la réduction d'impôt - Investissements réalisés en 2014\n",
      "7OX VOS CHARGES OUVRANT DROIT A RÉDUCTION D'IMPÔT OU A CREDIT D'IMPÔT - Investissements destinés à la location meublée non professionnelle : Loi CENSI-BOUVARD - Investissements réalisés en 2017\n",
      "7KJ Investissements réalisés en 2011 - Engagement de réalisation de l’investissement en 2011\n",
      "7OW VOS CHARGES OUVRANT DROIT A RÉDUCTION D'IMPÔT OU A CREDIT D'IMPÔT - Investissements destinés à la location meublée non professionnelle : Loi CENSI-BOUVARD - Investissements réalisés en 2016\n",
      "5AH REVENUS AGRICOLES - Durée de l’exercice nombre de mois - En cas de cession ou cessation d'activité en 2022\n",
      "7BH Investissements réalisés en 2012 - Logement acquis en état futur d’achévement avec contrat de réservation enregistré au plus tard le 31/12/2011 - investissement réalisé du 1.4 au 31.12.2012\n",
      "7BG Investissements réalisés en 2012 - Logement acquis en état futur d’achévement avec contrat de réservation enregistré au plus tard le 31/12/2011 - investissement réalisé du 1.1 au 31.3.2012\n",
      "7BE Investissements réalisés en 2012 - Engagement de réalisation de l’investissement en 2012\n",
      "7KR Investissements réalisés en 2012 - Logement acquis en état d’achévement avec contrat de réservation enregistré au plus tard le 31/12/2011 - investissement réalisé du 1.4 au 31.12.2012\n",
      "7GW VOS CHARGES OUVRANT DROIT A RÉDUCTION D'IMPÔT OU A CREDIT D'IMPÔT - Souscription au capital de PME, d’entreprises d’utilité sociale et de sociétés foncières et solidaires - Versements SFS\n",
      "7KS Investissements réalisés du 1.1.2013 au 31.3.2013 avec engagement de réalisation en 2012\n",
      "7OY VOS CHARGES OUVRANT DROIT A RÉDUCTION D'IMPÔT OU A CREDIT D'IMPÔT - Investissements destinés à la location meublée non professionnelle : Loi CENSI-BOUVARD - Investissements réalisés en 2018\n",
      "7GS Investissements achevés en 2012 en Polynésie française, Nouvelle Calédonie, dans les îles Wallis et Futuna - Investissements réalisés en 2011 avec promesse d’achat en 2010\n",
      "HJC AUTRES CHARGES OUVRANT DROIT A RÉDUCTION D'IMPÔT : Investissements outre-mer - Investissements outre-mer dans le logement et autres secteurs d'activité : montant de la réduction d'impôt - Investissements réalisés en 2016\n",
      "1BV TRAITEMENTS ET SALAIRES - En cas de majoration du seuil d'exonération\n",
      "7KL Investissements réalisés en 2011 - Logement acquis en état futur d’achévement avec contrat de réservation enregistré au plus tard le 31/12/2010 - investissement réalisé du 1.1 au 31.3.2011\n",
      "7BF Engagement de réalisation de l’investissement en 2011\n",
      "HIC AUTRES CHARGES OUVRANT DROIT A RÉDUCTION D'IMPÔT : Investissements outre-mer - Investissements outre-mer dans le logement et autres secteurs d'activité : montant de la réduction d'impôt - Investissements réalisés en 2015\n",
      "7WE Engagement de réalisation de l’investissement en 2011\n",
      "7AS VOS CHARGES OUVRANT DROIT A RÉDUCTION D'IMPÔT OU A CREDIT D'IMPÔT - Investissements locatifs neufs : loi Scellier - Prorogation en 2021 - Investissements en Polynésie française, Nouvelle Calédonie, dans les îles Wallis et Futuna - Investissements achevés en 2016\n",
      "HFR AUTRES CHARGES OUVRANT DROIT A RÉDUCTION D'IMPÔT : Investissements outre-mer - Investissements réalisés en 2019 - Investissements ayant fait l’objet en 2013 ou 2014 d’une demande d’agrément, d’une déclaration d’ouverture de chantier ou d’un acompte d’au moins 50 % - Investissements dans votre entreprise avec exploitation directe\n",
      "7WD Investissements réalisés en 2012 - Engagement de réalisation de l’investissement en 2012\n",
      "HIW AUTRES CHARGES OUVRANT DROIT A RÉDUCTION D'IMPÔT : Investissements outre-mer - RÉDUCTION D’IMPÔT POUR INVESTISSEMENTS OUTRE-MER DANS LE CADRE D’UNE ENTREPRISE - Investissements réalisés en 2022 - Investissements dans votre entreprise avec exploitation directe - montant de la réduction d’impôt dont vous demandez l’imputation en 2022\n",
      "7XK Logement acquis en état futur d’achévement avec contrat de réservation enregistré au plus tard le 31/12/2010 - investissement réalisé du 1.4 au 31.12.2011\n",
      "7PZ VOS CHARGES OUVRANT DROIT A RÉDUCTION D'IMPÔT OU A CREDIT D'IMPÔT - Investissements destinés à la location meublée non professionnelle : Loi CENSI-BOUVARD - Investissements réalisés en 2019\n",
      "7CI VOS CHARGES OUVRANT DROIT A RÉDUCTION D'IMPÔT OU A CREDIT D'IMPÔT - Souscription au capital de PME, d’entreprises d’utilité sociale et de sociétés foncières et solidaires - Versements PME et ESUS effectués du 1.1 au 17.3.2022\n",
      "HIV AUTRES CHARGES OUVRANT DROIT A RÉDUCTION D'IMPÔT : Investissements outre-mer - RÉDUCTION D’IMPÔT POUR INVESTISSEMENTS OUTRE-MER DANS LE CADRE D’UNE ENTREPRISE - Investissements réalisés en 2022 - Investissements dans votre entreprise avec exploitation directe - montant de la réduction d’impôt calculée\n",
      "HIT AUTRES CHARGES OUVRANT DROIT A RÉDUCTION D'IMPÔT : Investissements outre-mer - RÉDUCTION D’IMPÔT POUR INVESTISSEMENTS OUTRE-MER DANS LE CADRE D’UNE ENTREPRISE - Investissements réalisés en 2022 - Investissements donnés en location à une entreprise exploitante à laquelle vous rétrocédez la réduction d'impôt - à hauteur de 66 %\n",
      "HIS AUTRES CHARGES OUVRANT DROIT A RÉDUCTION D'IMPÔT : Investissements outre-mer - RÉDUCTION D’IMPÔT POUR INVESTISSEMENTS OUTRE-MER DANS LE CADRE D’UNE ENTREPRISE - Investissements réalisés en 2022 - Investissements donnés en location à une entreprise exploitante à laquelle vous rétrocédez la réduction d'impôt - à hauteur de 56 %\n",
      "7MN VOS CHARGES OUVRANT DROIT A RÉDUCTION D'IMPÔT OU A CREDIT D'IMPÔT - Investissements destinés à la location meublée non professionnelle : Loi CENSI-BOUVARD - Investissements réalisés en 2022\n"
     ]
    }
   ],
   "source": [
    "for code in boxcodes_missing_chunks:\n",
    "    print(code, boxes_by_code[code]['description'])"
   ]
  },
  {
   "attachments": {},
   "cell_type": "markdown",
   "metadata": {},
   "source": [
    "### Inspect boxes with very short description"
   ]
  },
  {
   "cell_type": "code",
   "execution_count": 42,
   "metadata": {},
   "outputs": [
    {
     "name": "stdout",
     "output_type": "stream",
     "text": [
      "0XX REVENUS EXCEPTIONNELS OU DIFFERES A IMPOSER SELON LE SYSTEME DU QUOTIENT\n",
      "7WE Engagement de réalisation de l’investissement en 2011\n",
      "7YY Investissements réalisés en 2010 avec promesse d'achat en 2009\n",
      "7YX Investissements réalisés en 2010\n",
      "7YZ Investissements réalisés en 2009\n",
      "7KS Investissements réalisés du 1.1.2013 au 31.3.2013 avec engagement de réalisation en 2012\n",
      "7BF Engagement de réalisation de l’investissement en 2011\n"
     ]
    }
   ],
   "source": [
    "for box in boxes:\n",
    "    if len(box['description_chunks']) <= 1:\n",
    "        print(box['code'], box['description'])"
   ]
  },
  {
   "attachments": {},
   "cell_type": "markdown",
   "metadata": {},
   "source": [
    "## Pregroup boxes by description"
   ]
  },
  {
   "cell_type": "code",
   "execution_count": 43,
   "metadata": {},
   "outputs": [],
   "source": [
    "boxes_pregrouped = defaultdict(list)\n",
    "for box in boxes:\n",
    "    boxes_pregrouped[box['description']].append(box)"
   ]
  },
  {
   "attachments": {},
   "cell_type": "markdown",
   "metadata": {},
   "source": [
    "## Group boxes into variables\n",
    "Boxes are grouped together if they are attributed and they have the same description."
   ]
  },
  {
   "cell_type": "code",
   "execution_count": 44,
   "metadata": {},
   "outputs": [],
   "source": [
    "variables = []\n",
    "for description, box_group in boxes_pregrouped.items():\n",
    "    # Check attributions\n",
    "    is_decl1 = [box for box in box_group if box['attribution'] == \"Déclarant 1\"]\n",
    "    is_decl2 = [box for box in box_group if box['attribution'] == \"Déclarant 2\"]\n",
    "    is_attributed = [box for box in box_group if box['attribution']]\n",
    "    types = {box['type'] for box in box_group}\n",
    "    if (len(is_decl1) > 1\n",
    "        or len(is_decl2) > 1\n",
    "        or len(is_attributed) / len(box_group) not in (0., 1.)\n",
    "        or is_attributed and box_group[0]['attribution'] != \"Déclarant 1\"\n",
    "        or is_attributed and box_group[1]['attribution'] != \"Déclarant 2\"\n",
    "        or len(types) != 1):\n",
    "        print(description)\n",
    "        for box in box_group:\n",
    "            print(box['code'], box['attribution'])\n",
    "        print('\\n')\n",
    "\n",
    "    # Group attributed boxes into variables\n",
    "    var_type = types.pop()\n",
    "    if is_attributed:\n",
    "       variables.append({\n",
    "            'boxes': [box['code'] for box in box_group],\n",
    "            'description': description,\n",
    "            'type': var_type,\n",
    "        })\n",
    "    else:\n",
    "        for box in box_group:\n",
    "            variables.append({\n",
    "                'boxes': [box['code']],\n",
    "                'description': description,\n",
    "                'type': var_type,\n",
    "            })"
   ]
  },
  {
   "attachments": {},
   "cell_type": "markdown",
   "metadata": {},
   "source": [
    "## Manually add some boxes"
   ]
  },
  {
   "attachments": {},
   "cell_type": "markdown",
   "metadata": {},
   "source": [
    "### Family boxes"
   ]
  },
  {
   "cell_type": "code",
   "execution_count": 45,
   "metadata": {},
   "outputs": [],
   "source": [
    "variables += [\n",
    "    # The order is important here: the first one is the box for the first partner (will be always used for single simulation)\n",
    "    {'boxes': ['0AP', '0AF'], 'type': 'bool', 'description': \"Titulaire d'une pension pour une invalidité d'au moins 40 % ou d'une carte d'invalidité d'au moins 80%\"},\n",
    "    {'boxes': ['0AW', '0AS'], 'type': 'bool', 'description': \"Vous êtes âgé de plus de 74 ans, vous êtes titulaire de la carte du combattant ou d'une pension militaire d'invalidité ou de victime de guerre\"},\n",
    "    {'boxes': ['0CF',], 'type': 'float', 'description': \"Nombre d'enfants à charge non mariés, qui ne sont pas en résidence alternée, de moins de 18 ans au 1er janvier de l'année de perception des revenus, ou nés durant la même année ou handicapés quel que soit leur âge\"},\n",
    "    {'boxes': ['0CG',], 'type': 'float', 'description': \"Nombre d'enfants qui ne sont pas en résidence alternée à charge titulaires de la carte d'invalidité.\"},\n",
    "    {'boxes': ['0CH',], 'type': 'float', 'description': \"Nombre d'enfants à charge en résidence alternée, non mariés de moins de 18 ans au 1er janvier de l'année de perception des revenus, ou nés durant la même année ou handicapés quel que soit leur âge\"},\n",
    "    {'boxes': ['0CI',], 'type': 'float', 'description': \"Nombre d'enfants à charge en résidence alternée titulaires de la carte d'invalidité\"},\n",
    "    {'boxes': ['0CR',], 'type': 'float', 'description': \"Nombre de titulaires (autres que les enfants) de la carte invalidité d'au moins 80 %\"},\n",
    "    {'boxes': ['0DJ',], 'type': 'float', 'description': \"Nombre d'enfants majeurs célibataires sans enfant\"},\n",
    "    {'boxes': ['0DN',], 'type': 'float', 'description': \"Nombre d'enfants mariés/pacsés et d'enfants non mariés chargés de famille\"},\n",
    "]"
   ]
  },
  {
   "attachments": {},
   "cell_type": "markdown",
   "metadata": {},
   "source": [
    "### Household status boxes"
   ]
  },
  {
   "cell_type": "code",
   "execution_count": 46,
   "metadata": {},
   "outputs": [],
   "source": [
    "variables += [\n",
    "    {'boxes': ['0AM'], 'type': 'bool', 'description': \"Marié·e\"},\n",
    "    {'boxes': ['0AO'], 'type': 'bool', 'description': \"Pacsé·e\"},\n",
    "    {'boxes': ['0AD'], 'type': 'bool', 'description': \"Divorcé·e/séparé·e\"},\n",
    "    {'boxes': ['0AC'], 'type': 'bool', 'description': \"Célibataire\"},\n",
    "    {'boxes': ['0AV'], 'type': 'bool', 'description': \"Veuf·ve\"},\n",
    "]"
   ]
  },
  {
   "attachments": {},
   "cell_type": "markdown",
   "metadata": {},
   "source": [
    "## Prettify description"
   ]
  },
  {
   "cell_type": "code",
   "execution_count": 47,
   "metadata": {},
   "outputs": [],
   "source": [
    "WORD_REPLACEMENTS = [\n",
    "    ('dun', \"d'un\"),\n",
    "    (\"lemploi\", \"l'emploi\"),\n",
    "    ('marié', 'marié·e'),\n",
    "    ('mariés', 'marié·e·s'),\n",
    "    ('âgé', 'âgé·e'),\n",
    "    ('âgés', 'âgé·e·s'),\n",
    "    ('pacsé', 'pacsé·e'),\n",
    "    ('pacsés', 'pacsé·e·s'),\n",
    "    ('né', 'né·e'),\n",
    "    ('nés', 'né·e·s'),\n",
    "    ('majeurs', 'majeur·e·s'),\n",
    "    ('handicapé', 'handicapé·e'),\n",
    "    ('handicapés', 'handicapé·e·s'),\n",
    "    ('salariés', 'salarié·e·s'),\n",
    "    ('pensionnés', 'pensionné·e·s'),\n",
    "    ('un salarié', 'un·e salarié·e'),\n",
    "    ('dun salarié', 'dun·e salarié·e'),\n",
    "    ('inventeurs', 'inventeur·euse·s'),\n",
    "    ('auteurs', 'auteur·ice·s'),\n",
    "    ('demandeur', 'demandeur·euse'),\n",
    "    ('inscrit', 'inscrit·e'),    \n",
    "    ('OGAou', 'OGA ou'),    \n",
    "]\n",
    "for var in variables:\n",
    "    if not var['description']:\n",
    "        continue\n",
    "    original_description = var['description']\n",
    "    for lookup, repl in WORD_REPLACEMENTS:\n",
    "        var['description'] = re.sub(r\"\\b%s\\b\" % lookup, repl, var['description'])\n",
    "        var['description'] = re.sub(r\"\\b%s\\b\" % lookup.capitalize(), repl.capitalize(), var['description'])\n",
    "    if False and var['description'] != original_description:\n",
    "        print(original_description)\n",
    "        print(var['description'], '\\n')\n",
    "    if not var['description'].endswith('.'):\n",
    "        var['description'] = var['description'] + '.'"
   ]
  },
  {
   "attachments": {},
   "cell_type": "markdown",
   "metadata": {},
   "source": [
    "## Output variables"
   ]
  },
  {
   "cell_type": "code",
   "execution_count": 48,
   "metadata": {},
   "outputs": [],
   "source": [
    "with open(CERFA_VARIABLES_PATH, 'w+') as f:\n",
    "    json.dump(variables, f, indent=2)"
   ]
  }
 ],
 "metadata": {
  "kernelspec": {
   "display_name": "venv",
   "language": "python",
   "name": "python3"
  },
  "language_info": {
   "codemirror_mode": {
    "name": "ipython",
    "version": 3
   },
   "file_extension": ".py",
   "mimetype": "text/x-python",
   "name": "python",
   "nbconvert_exporter": "python",
   "pygments_lexer": "ipython3"
  }
 },
 "nbformat": 4,
 "nbformat_minor": 2
}
